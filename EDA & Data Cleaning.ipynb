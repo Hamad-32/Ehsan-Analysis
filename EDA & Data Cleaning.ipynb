{
 "cells": [
  {
   "cell_type": "code",
   "execution_count": 32,
   "id": "e69c4ba1-85f3-4a02-ae37-c64347a01803",
   "metadata": {},
   "outputs": [],
   "source": [
    "import warnings\n",
    "warnings.filterwarnings(\"ignore\")\n",
    "import pandas as pd\n",
    "import numpy as np\n",
    "import matplotlib.pyplot as plt\n",
    "import seaborn as sns\n",
    "from datetime import datetime\n",
    "\n",
    "%matplotlib inline"
   ]
  },
  {
   "cell_type": "code",
   "execution_count": 43,
   "id": "d9f28e06",
   "metadata": {},
   "outputs": [
    {
     "name": "stdout",
     "output_type": "stream",
     "text": [
      "<class 'datetime.date'>\n",
      "2022-09-19\n"
     ]
    }
   ],
   "source": [
    "datetime_str = '09/19/22'\n",
    "\n",
    "datetime_object = datetime.strptime(datetime_str, '%m/%d/%y').date()\n",
    "print(type(datetime_object))\n",
    "print(datetime_object)  # printed in default format"
   ]
  },
  {
   "cell_type": "markdown",
   "id": "e395e8bf-b530-4720-8d0f-26811e927d6e",
   "metadata": {},
   "source": [
    "## Loading the data\n",
    "We can now load the dataset into pandas using the read_csv() function. This converts the CSV file into a Pandas dataframe."
   ]
  },
  {
   "cell_type": "code",
   "execution_count": 2,
   "id": "cf4030b0-aa7f-4bd7-8e9c-c1b7f4d202d0",
   "metadata": {},
   "outputs": [],
   "source": [
    "#Read in the csv file and convert to a Pandas dataframe\n",
    "df_ehsan = pd.read_csv(\"data/ehsan.csv\")"
   ]
  },
  {
   "cell_type": "markdown",
   "id": "ca5ed983-0f72-43eb-8168-6fafd48c562e",
   "metadata": {},
   "source": [
    "### Viewing the dataframe\n",
    "We can get a quick sense of the size of our dataset by using the shape method. This returns a tuple with the number of rows and columns in the dataset."
   ]
  },
  {
   "cell_type": "code",
   "execution_count": 3,
   "id": "bfde0b69-613c-4dd1-8ebf-e4d2e570e653",
   "metadata": {},
   "outputs": [
    {
     "data": {
      "text/plain": [
       "(1485, 11)"
      ]
     },
     "execution_count": 3,
     "metadata": {},
     "output_type": "execute_result"
    }
   ],
   "source": [
    "df_ehsan.shape"
   ]
  },
  {
   "cell_type": "markdown",
   "id": "bd2b5bc4-db37-4432-b666-0714afd0c4ca",
   "metadata": {},
   "source": [
    "## 1. Data Profiling:\n",
    "Data profiling is a comprehensive process of examining the data available in an existing dataset and collecting statistics and information about that data. "
   ]
  },
  {
   "cell_type": "code",
   "execution_count": 4,
   "id": "672f2081-5a2c-4908-8cbd-29519fb3cac5",
   "metadata": {},
   "outputs": [
    {
     "data": {
      "text/html": [
       "<div>\n",
       "<style scoped>\n",
       "    .dataframe tbody tr th:only-of-type {\n",
       "        vertical-align: middle;\n",
       "    }\n",
       "\n",
       "    .dataframe tbody tr th {\n",
       "        vertical-align: top;\n",
       "    }\n",
       "\n",
       "    .dataframe thead th {\n",
       "        text-align: right;\n",
       "    }\n",
       "</style>\n",
       "<table border=\"1\" class=\"dataframe\">\n",
       "  <thead>\n",
       "    <tr style=\"text-align: right;\">\n",
       "      <th></th>\n",
       "      <th>Unnamed: 0</th>\n",
       "      <th>Case Number</th>\n",
       "      <th>Project Names</th>\n",
       "      <th>Amount</th>\n",
       "      <th>Date</th>\n",
       "      <th>Beneficiaries</th>\n",
       "      <th>Beneficiary type</th>\n",
       "      <th>Number of donations</th>\n",
       "      <th>Partner</th>\n",
       "      <th>Location</th>\n",
       "      <th>Details URL</th>\n",
       "    </tr>\n",
       "  </thead>\n",
       "  <tbody>\n",
       "    <tr>\n",
       "      <th>0</th>\n",
       "      <td>0</td>\n",
       "      <td>P49631</td>\n",
       "      <td>وجبات الإفطار في ساحات الحرم المكي</td>\n",
       "      <td>300,000ر.س</td>\n",
       "      <td>07/03/2025</td>\n",
       "      <td>20,000</td>\n",
       "      <td>المواطنون والمقيمون بالمملكة</td>\n",
       "      <td>16,226</td>\n",
       "      <td>جمعية البر الخيرية بالأبواء</td>\n",
       "      <td>مكة المكرمة</td>\n",
       "      <td>https://ehsan.sa/projects/0/48632?amount=null</td>\n",
       "    </tr>\n",
       "    <tr>\n",
       "      <th>1</th>\n",
       "      <td>1</td>\n",
       "      <td>P49553</td>\n",
       "      <td>وجبات السحور للصائمين</td>\n",
       "      <td>280,000ر.س</td>\n",
       "      <td>07/03/2025</td>\n",
       "      <td>20,000</td>\n",
       "      <td>المواطنون والمقيمون بالمملكة</td>\n",
       "      <td>24,403</td>\n",
       "      <td>جمعية البر الخيرية بالنويعمة</td>\n",
       "      <td>وادى الدواسر</td>\n",
       "      <td>https://ehsan.sa/projects/0/48554?amount=null</td>\n",
       "    </tr>\n",
       "    <tr>\n",
       "      <th>2</th>\n",
       "      <td>2</td>\n",
       "      <td>P49625</td>\n",
       "      <td>وجبات الإفطار لضيوف الرحمن</td>\n",
       "      <td>300,000ر.س</td>\n",
       "      <td>07/03/2025</td>\n",
       "      <td>30,000</td>\n",
       "      <td>المواطنون والمقيمون بالمملكة</td>\n",
       "      <td>11,930</td>\n",
       "      <td>جمعية البر الخيرية بالحوية</td>\n",
       "      <td>السيل الكبير</td>\n",
       "      <td>https://ehsan.sa/projects/0/48626?amount=null</td>\n",
       "    </tr>\n",
       "    <tr>\n",
       "      <th>3</th>\n",
       "      <td>3</td>\n",
       "      <td>P49618</td>\n",
       "      <td>ترميم مساكن المتعففين</td>\n",
       "      <td>300,000ر.س</td>\n",
       "      <td>07/03/2025</td>\n",
       "      <td>11</td>\n",
       "      <td>المواطنون</td>\n",
       "      <td>9,378</td>\n",
       "      <td>الجمعية الخيرية ببللحمر</td>\n",
       "      <td>باللحمر</td>\n",
       "      <td>https://ehsan.sa/projects/0/48619?amount=null</td>\n",
       "    </tr>\n",
       "    <tr>\n",
       "      <th>4</th>\n",
       "      <td>4</td>\n",
       "      <td>P49626</td>\n",
       "      <td>عملية في العمود الفقري لمريضة متعففة</td>\n",
       "      <td>24,000ر.س</td>\n",
       "      <td>07/03/2025</td>\n",
       "      <td>1</td>\n",
       "      <td>المقيمون بالمملكة</td>\n",
       "      <td>145</td>\n",
       "      <td>جمعية رحماء الصحية</td>\n",
       "      <td>الرياض</td>\n",
       "      <td>https://ehsan.sa/projects/0/48627?amount=null</td>\n",
       "    </tr>\n",
       "  </tbody>\n",
       "</table>\n",
       "</div>"
      ],
      "text/plain": [
       "   Unnamed: 0 Case Number                         Project Names      Amount  \\\n",
       "0           0      P49631    وجبات الإفطار في ساحات الحرم المكي  300,000ر.س   \n",
       "1           1      P49553                 وجبات السحور للصائمين  280,000ر.س   \n",
       "2           2      P49625            وجبات الإفطار لضيوف الرحمن  300,000ر.س   \n",
       "3           3      P49618                 ترميم مساكن المتعففين  300,000ر.س   \n",
       "4           4      P49626  عملية في العمود الفقري لمريضة متعففة   24,000ر.س   \n",
       "\n",
       "         Date Beneficiaries              Beneficiary type Number of donations  \\\n",
       "0  07/03/2025        20,000  المواطنون والمقيمون بالمملكة              16,226   \n",
       "1  07/03/2025        20,000  المواطنون والمقيمون بالمملكة              24,403   \n",
       "2  07/03/2025        30,000  المواطنون والمقيمون بالمملكة              11,930   \n",
       "3  07/03/2025            11                     المواطنون               9,378   \n",
       "4  07/03/2025             1             المقيمون بالمملكة                 145   \n",
       "\n",
       "                        Partner      Location  \\\n",
       "0   جمعية البر الخيرية بالأبواء   مكة المكرمة   \n",
       "1  جمعية البر الخيرية بالنويعمة  وادى الدواسر   \n",
       "2    جمعية البر الخيرية بالحوية  السيل الكبير   \n",
       "3       الجمعية الخيرية ببللحمر       باللحمر   \n",
       "4            جمعية رحماء الصحية        الرياض   \n",
       "\n",
       "                                     Details URL  \n",
       "0  https://ehsan.sa/projects/0/48632?amount=null  \n",
       "1  https://ehsan.sa/projects/0/48554?amount=null  \n",
       "2  https://ehsan.sa/projects/0/48626?amount=null  \n",
       "3  https://ehsan.sa/projects/0/48619?amount=null  \n",
       "4  https://ehsan.sa/projects/0/48627?amount=null  "
      ]
     },
     "execution_count": 4,
     "metadata": {},
     "output_type": "execute_result"
    }
   ],
   "source": [
    "df_ehsan.head()"
   ]
  },
  {
   "cell_type": "code",
   "execution_count": 5,
   "id": "d5f05cfc",
   "metadata": {},
   "outputs": [
    {
     "name": "stdout",
     "output_type": "stream",
     "text": [
      "<class 'pandas.core.frame.DataFrame'>\n",
      "RangeIndex: 1485 entries, 0 to 1484\n",
      "Data columns (total 11 columns):\n",
      " #   Column               Non-Null Count  Dtype \n",
      "---  ------               --------------  ----- \n",
      " 0   Unnamed: 0           1485 non-null   int64 \n",
      " 1   Case Number          1485 non-null   object\n",
      " 2   Project Names        1485 non-null   object\n",
      " 3   Amount               1485 non-null   object\n",
      " 4   Date                 1485 non-null   object\n",
      " 5   Beneficiaries        1485 non-null   object\n",
      " 6   Beneficiary type     1485 non-null   object\n",
      " 7   Number of donations  1485 non-null   object\n",
      " 8   Partner              1485 non-null   object\n",
      " 9   Location             1485 non-null   object\n",
      " 10  Details URL          1485 non-null   object\n",
      "dtypes: int64(1), object(10)\n",
      "memory usage: 127.7+ KB\n"
     ]
    }
   ],
   "source": [
    "df_ehsan.info()"
   ]
  },
  {
   "cell_type": "code",
   "execution_count": 6,
   "id": "8f10d8d2",
   "metadata": {},
   "outputs": [
    {
     "data": {
      "text/html": [
       "<div>\n",
       "<style scoped>\n",
       "    .dataframe tbody tr th:only-of-type {\n",
       "        vertical-align: middle;\n",
       "    }\n",
       "\n",
       "    .dataframe tbody tr th {\n",
       "        vertical-align: top;\n",
       "    }\n",
       "\n",
       "    .dataframe thead th {\n",
       "        text-align: right;\n",
       "    }\n",
       "</style>\n",
       "<table border=\"1\" class=\"dataframe\">\n",
       "  <thead>\n",
       "    <tr style=\"text-align: right;\">\n",
       "      <th></th>\n",
       "      <th>Case Number</th>\n",
       "      <th>Project Names</th>\n",
       "      <th>Amount</th>\n",
       "      <th>Date</th>\n",
       "      <th>Beneficiaries</th>\n",
       "      <th>Beneficiary type</th>\n",
       "      <th>Number of donations</th>\n",
       "      <th>Partner</th>\n",
       "      <th>Location</th>\n",
       "      <th>Details URL</th>\n",
       "    </tr>\n",
       "  </thead>\n",
       "  <tbody>\n",
       "    <tr>\n",
       "      <th>count</th>\n",
       "      <td>1485</td>\n",
       "      <td>1485</td>\n",
       "      <td>1485</td>\n",
       "      <td>1485</td>\n",
       "      <td>1485</td>\n",
       "      <td>1485</td>\n",
       "      <td>1485</td>\n",
       "      <td>1485</td>\n",
       "      <td>1485</td>\n",
       "      <td>1485</td>\n",
       "    </tr>\n",
       "    <tr>\n",
       "      <th>unique</th>\n",
       "      <td>1485</td>\n",
       "      <td>477</td>\n",
       "      <td>674</td>\n",
       "      <td>342</td>\n",
       "      <td>437</td>\n",
       "      <td>3</td>\n",
       "      <td>1433</td>\n",
       "      <td>742</td>\n",
       "      <td>284</td>\n",
       "      <td>1485</td>\n",
       "    </tr>\n",
       "    <tr>\n",
       "      <th>top</th>\n",
       "      <td>P49631</td>\n",
       "      <td>سقيا الماء</td>\n",
       "      <td>300,000ر.س</td>\n",
       "      <td>22/03/2024</td>\n",
       "      <td>1</td>\n",
       "      <td>المواطنون</td>\n",
       "      <td>12,784</td>\n",
       "      <td>جمعية رحماء الصحية</td>\n",
       "      <td>الرياض</td>\n",
       "      <td>https://ehsan.sa/projects/0/48632?amount=null</td>\n",
       "    </tr>\n",
       "    <tr>\n",
       "      <th>freq</th>\n",
       "      <td>1</td>\n",
       "      <td>65</td>\n",
       "      <td>95</td>\n",
       "      <td>92</td>\n",
       "      <td>130</td>\n",
       "      <td>710</td>\n",
       "      <td>3</td>\n",
       "      <td>82</td>\n",
       "      <td>201</td>\n",
       "      <td>1</td>\n",
       "    </tr>\n",
       "  </tbody>\n",
       "</table>\n",
       "</div>"
      ],
      "text/plain": [
       "       Case Number Project Names      Amount        Date Beneficiaries  \\\n",
       "count         1485          1485        1485        1485          1485   \n",
       "unique        1485           477         674         342           437   \n",
       "top         P49631    سقيا الماء  300,000ر.س  22/03/2024             1   \n",
       "freq             1            65          95          92           130   \n",
       "\n",
       "       Beneficiary type Number of donations             Partner Location  \\\n",
       "count              1485                1485                1485     1485   \n",
       "unique                3                1433                 742      284   \n",
       "top           المواطنون              12,784  جمعية رحماء الصحية   الرياض   \n",
       "freq                710                   3                  82      201   \n",
       "\n",
       "                                          Details URL  \n",
       "count                                            1485  \n",
       "unique                                           1485  \n",
       "top     https://ehsan.sa/projects/0/48632?amount=null  \n",
       "freq                                                1  "
      ]
     },
     "execution_count": 6,
     "metadata": {},
     "output_type": "execute_result"
    }
   ],
   "source": [
    "df_ehsan.describe(include='object')"
   ]
  },
  {
   "cell_type": "markdown",
   "id": "3a9954f5-6fbc-45b4-ad86-3e21b6e0ca2d",
   "metadata": {},
   "source": [
    "### Data Quality Checks\n",
    "Data quality checks involve the process of ensuring that the data is accurate, complete, consistent, relevant, and reliable. \n",
    "\n",
    "\n",
    "**Here are typical steps involved in checking data quality:**"
   ]
  },
  {
   "cell_type": "markdown",
   "id": "4818c876-173d-4e56-9e7d-b4334d2def25",
   "metadata": {},
   "source": [
    "#### 1. Reliability:\n",
    "Evaluate the data's source and collection process to determine its trustworthiness."
   ]
  },
  {
   "cell_type": "code",
   "execution_count": 7,
   "id": "9034ae7b-dc1d-4cba-8f9e-bb499d021cde",
   "metadata": {},
   "outputs": [],
   "source": [
    "# Data from Ehsan.sa websit"
   ]
  },
  {
   "cell_type": "markdown",
   "id": "2ce0cc59-8c92-4acc-8d07-c40764e1a86b",
   "metadata": {},
   "source": [
    "#### 2. Timeliness: \n",
    "Ensure the data is up-to-date and reflective of the current situation or the period of interest for the analysis."
   ]
  },
  {
   "cell_type": "code",
   "execution_count": 8,
   "id": "4b78ae35-7226-4cb6-b8b2-a46c2ed17cf9",
   "metadata": {},
   "outputs": [],
   "source": [
    "# Data is exist for 2024 up to date 7/3/2025 for one year"
   ]
  },
  {
   "cell_type": "markdown",
   "id": "7fab0fe2-6624-4615-b9d8-3c3669056bf8",
   "metadata": {},
   "source": [
    "#### 3. Consistency: \n",
    "\n",
    "Confirm that the data is consistent within the dataset and across multiple data sources. For example, the same data point should not have different values in different places.\n"
   ]
  },
  {
   "cell_type": "code",
   "execution_count": 9,
   "id": "7fecc573-959f-4800-8ddd-a67985c68b18",
   "metadata": {},
   "outputs": [],
   "source": [
    "# It's Consistenc"
   ]
  },
  {
   "cell_type": "markdown",
   "id": "bec3d183-bba0-4b12-b963-487daab1e876",
   "metadata": {},
   "source": [
    "#### 4. Relevance: \n",
    "Assess whether the data is appropriate and applicable for the intended analysis. Data that is not relevant can skew results and lead to incorrect conclusions.\n",
    "\n",
    "**Key considerations for relevance include:**\n",
    "\n",
    "> 1. Sample Appropriateness: Confirm that your data sample aligns with your analysis objectives. For instance, utilizing data from the Northern region will not yield accurate insights for the Western region of the Kingdom.\n",
    ">\n",
    "> 2. Variable Selection: Any column will not be relevant for our analysis, we can get rid of these using the drop() method. We will set the “axis” argument to 1 since we’re dealing with columns, and set the “inplace” argument to True to make the change permanent.\n"
   ]
  },
  {
   "cell_type": "code",
   "execution_count": 10,
   "id": "50a934b7-a0cd-443f-8a27-f10e9a6e8647",
   "metadata": {
    "scrolled": true
   },
   "outputs": [],
   "source": [
    "# Data Sample is aligns with my analysis"
   ]
  },
  {
   "cell_type": "markdown",
   "id": "0f5e3a2a-bbb7-4d06-8220-c93277b70146",
   "metadata": {},
   "source": [
    "#### 5. Uniqueness: \n",
    "Check for and remove duplicate records to prevent skewed analysis results.\n"
   ]
  },
  {
   "cell_type": "code",
   "execution_count": 11,
   "id": "a509a7aa-58f4-4d39-8eb8-e8298a21f2a7",
   "metadata": {},
   "outputs": [
    {
     "data": {
      "text/plain": [
       "0"
      ]
     },
     "execution_count": 11,
     "metadata": {},
     "output_type": "execute_result"
    }
   ],
   "source": [
    "df_ehsan.duplicated().sum()"
   ]
  },
  {
   "cell_type": "code",
   "execution_count": 12,
   "id": "848ec3eb",
   "metadata": {},
   "outputs": [
    {
     "data": {
      "text/plain": [
       "0"
      ]
     },
     "execution_count": 12,
     "metadata": {},
     "output_type": "execute_result"
    }
   ],
   "source": [
    "df_ehsan['Case Number'].duplicated().sum()"
   ]
  },
  {
   "cell_type": "code",
   "execution_count": 13,
   "id": "04c62559-3b48-48cf-a4e9-857e2e0ff416",
   "metadata": {},
   "outputs": [],
   "source": [
    "# go to delete duplicates columns"
   ]
  },
  {
   "cell_type": "markdown",
   "id": "c7724ac2-4ea2-4cf4-a9e0-e64368f87b92",
   "metadata": {},
   "source": [
    "#### 6. Completeness: \n",
    "Ensure that no critical data is missing. This might mean checking for null values or required fields that are empty.\n",
    "\n",
    "We will start by checking the dataset for missing or null values. For this, we can use the isna() method which returns a dataframe of boolean values indicating if a field is null or not. To group all missing values by column, we can include the sum() method."
   ]
  },
  {
   "cell_type": "code",
   "execution_count": 14,
   "id": "48a4de54-a344-4b94-9908-9528c15c13f7",
   "metadata": {},
   "outputs": [],
   "source": [
    "#Display number missing values per column"
   ]
  },
  {
   "cell_type": "code",
   "execution_count": 15,
   "id": "4b950bda",
   "metadata": {},
   "outputs": [
    {
     "data": {
      "text/plain": [
       "Unnamed: 0             0\n",
       "Case Number            0\n",
       "Project Names          0\n",
       "Amount                 0\n",
       "Date                   0\n",
       "Beneficiaries          0\n",
       "Beneficiary type       0\n",
       "Number of donations    0\n",
       "Partner                0\n",
       "Location               0\n",
       "Details URL            0\n",
       "dtype: int64"
      ]
     },
     "execution_count": 15,
     "metadata": {},
     "output_type": "execute_result"
    }
   ],
   "source": [
    "df_ehsan.isnull().sum()"
   ]
  },
  {
   "cell_type": "code",
   "execution_count": 16,
   "id": "abec31c4-0904-4b73-8cee-b7bc14ab1e67",
   "metadata": {},
   "outputs": [],
   "source": [
    "# go to clean them "
   ]
  },
  {
   "cell_type": "markdown",
   "id": "b40de63c-5a1d-49ed-a87e-c5229ee08bbe",
   "metadata": {},
   "source": [
    "#### 7. Check Accuracy:\n",
    "\n",
    "Verify that the data is correct and precise. This could involve comparing data samples with known sources or using validation rules.\n",
    "\n",
    "**The process includes:**\n",
    "1. Validating the appropriateness of data types for the dataset.\n",
    "2. Identifying outliers  using established validation  rule"
   ]
  },
  {
   "cell_type": "code",
   "execution_count": 17,
   "id": "68be5334-ae10-4abd-8097-3259fe5e72c8",
   "metadata": {},
   "outputs": [
    {
     "name": "stdout",
     "output_type": "stream",
     "text": [
      "<class 'pandas.core.frame.DataFrame'>\n",
      "RangeIndex: 1485 entries, 0 to 1484\n",
      "Data columns (total 11 columns):\n",
      " #   Column               Non-Null Count  Dtype \n",
      "---  ------               --------------  ----- \n",
      " 0   Unnamed: 0           1485 non-null   int64 \n",
      " 1   Case Number          1485 non-null   object\n",
      " 2   Project Names        1485 non-null   object\n",
      " 3   Amount               1485 non-null   object\n",
      " 4   Date                 1485 non-null   object\n",
      " 5   Beneficiaries        1485 non-null   object\n",
      " 6   Beneficiary type     1485 non-null   object\n",
      " 7   Number of donations  1485 non-null   object\n",
      " 8   Partner              1485 non-null   object\n",
      " 9   Location             1485 non-null   object\n",
      " 10  Details URL          1485 non-null   object\n",
      "dtypes: int64(1), object(10)\n",
      "memory usage: 127.7+ KB\n"
     ]
    }
   ],
   "source": [
    "# check columns types \n",
    "df_ehsan.info()"
   ]
  },
  {
   "cell_type": "code",
   "execution_count": 18,
   "id": "4773e25f",
   "metadata": {},
   "outputs": [
    {
     "data": {
      "text/plain": [
       "'51,200'"
      ]
     },
     "execution_count": 18,
     "metadata": {},
     "output_type": "execute_result"
    }
   ],
   "source": [
    "df_ehsan['Amount'][20].split('ر')[0]"
   ]
  },
  {
   "cell_type": "code",
   "execution_count": 19,
   "id": "31323221",
   "metadata": {},
   "outputs": [
    {
     "data": {
      "text/plain": [
       "'20,000'"
      ]
     },
     "execution_count": 19,
     "metadata": {},
     "output_type": "execute_result"
    }
   ],
   "source": [
    "df_ehsan['Beneficiaries'][0]"
   ]
  },
  {
   "cell_type": "code",
   "execution_count": 20,
   "id": "a52c7421",
   "metadata": {},
   "outputs": [
    {
     "data": {
      "text/plain": [
       "'16,226'"
      ]
     },
     "execution_count": 20,
     "metadata": {},
     "output_type": "execute_result"
    }
   ],
   "source": [
    "df_ehsan['Number of donations'][0]"
   ]
  },
  {
   "cell_type": "code",
   "execution_count": 21,
   "id": "2ee790ba-dcc0-45f1-b6f8-0133e913e149",
   "metadata": {},
   "outputs": [],
   "source": [
    "# go to clean them "
   ]
  },
  {
   "cell_type": "code",
   "execution_count": 22,
   "id": "c69b303a-5459-45f9-a28e-fcee45c21c05",
   "metadata": {},
   "outputs": [],
   "source": [
    "# check outliers "
   ]
  },
  {
   "cell_type": "code",
   "execution_count": null,
   "id": "ee200da8-62b0-492d-b118-f4d665a1fb16",
   "metadata": {},
   "outputs": [],
   "source": []
  },
  {
   "cell_type": "code",
   "execution_count": 23,
   "id": "4e66d611-6958-4860-8522-9ada7fce40b0",
   "metadata": {},
   "outputs": [],
   "source": [
    "# go to delete ouliers"
   ]
  },
  {
   "cell_type": "code",
   "execution_count": null,
   "id": "1711cd7a",
   "metadata": {},
   "outputs": [],
   "source": []
  },
  {
   "cell_type": "markdown",
   "id": "a703f752",
   "metadata": {},
   "source": [
    "## 2. Data Cleaning: \n",
    "\n",
    "Preliminary findings from data profiling can lead to cleaning the data by:\n",
    "- Handling missing values\n",
    "- Correcting errors.\n",
    "- Dealing with outliers.\n",
    "\n",
    "-------------------\n",
    "\n"
   ]
  },
  {
   "cell_type": "code",
   "execution_count": 24,
   "id": "f8720d3e",
   "metadata": {},
   "outputs": [
    {
     "data": {
      "text/plain": [
       "63000"
      ]
     },
     "execution_count": 24,
     "metadata": {},
     "output_type": "execute_result"
    }
   ],
   "source": [
    "int(df_ehsan['Amount'][1241].split('ر')[0].replace(',',''))"
   ]
  },
  {
   "cell_type": "code",
   "execution_count": 25,
   "id": "1be7d46c",
   "metadata": {},
   "outputs": [],
   "source": [
    "# Clean Amount column\n",
    "df_ehsan['Amount'] = df_ehsan['Amount'].apply(lambda x: int(x.split('ر')[0].replace(',','')))"
   ]
  },
  {
   "cell_type": "code",
   "execution_count": 26,
   "id": "03844179",
   "metadata": {},
   "outputs": [],
   "source": [
    "# Save Beneficiaries as int\n",
    "df_ehsan['Beneficiaries'] = df_ehsan['Beneficiaries'].apply(lambda x: int(x.replace(',','')))"
   ]
  },
  {
   "cell_type": "code",
   "execution_count": 27,
   "id": "495a5b96",
   "metadata": {},
   "outputs": [],
   "source": [
    "# Save Number of donations as int\n",
    "df_ehsan['Number of donations'] = df_ehsan['Number of donations'].apply(lambda x: int(x.replace(',','')))"
   ]
  },
  {
   "cell_type": "code",
   "execution_count": 56,
   "id": "14de1e54",
   "metadata": {},
   "outputs": [
    {
     "name": "stdout",
     "output_type": "stream",
     "text": [
      "<class 'pandas.core.frame.DataFrame'>\n",
      "RangeIndex: 1485 entries, 0 to 1484\n",
      "Data columns (total 11 columns):\n",
      " #   Column               Non-Null Count  Dtype \n",
      "---  ------               --------------  ----- \n",
      " 0   Unnamed: 0           1485 non-null   int64 \n",
      " 1   Case Number          1485 non-null   object\n",
      " 2   Project Names        1485 non-null   object\n",
      " 3   Amount               1485 non-null   int64 \n",
      " 4   Date                 1485 non-null   object\n",
      " 5   Beneficiaries        1485 non-null   int64 \n",
      " 6   Beneficiary type     1485 non-null   object\n",
      " 7   Number of donations  1485 non-null   int64 \n",
      " 8   Partner              1485 non-null   object\n",
      " 9   Location             1485 non-null   object\n",
      " 10  Details URL          1485 non-null   object\n",
      "dtypes: int64(4), object(7)\n",
      "memory usage: 127.7+ KB\n"
     ]
    }
   ],
   "source": [
    "df_ehsan.info()"
   ]
  },
  {
   "cell_type": "code",
   "execution_count": 55,
   "id": "0f0e71c4",
   "metadata": {},
   "outputs": [],
   "source": [
    "# Convert date from object to date format\n",
    "df_ehsan['Date'] = df_ehsan['Date'].apply(lambda x : datetime.strptime(x, '%d/%m/%Y').date())"
   ]
  },
  {
   "cell_type": "markdown",
   "id": "63ba67ee",
   "metadata": {},
   "source": [
    "### 1. Univariate Graphical Analysis:"
   ]
  },
  {
   "cell_type": "code",
   "execution_count": 30,
   "id": "8b40ed99",
   "metadata": {},
   "outputs": [
    {
     "data": {
      "image/png": "[encoded data removed]",
      "text/plain": [
       "<Figure size 1500x800 with 1 Axes>"
      ]
     },
     "metadata": {},
     "output_type": "display_data"
    }
   ],
   "source": [
    "plt.figure(figsize=(15,8))\n",
    "sns.histplot(\n",
    "    df_ehsan,\n",
    "    x='Amount',\n",
    "    multiple=\"stack\", # also can be layer or dodge or fill\n",
    "    edgecolor = 'red',\n",
    "    color='blue',\n",
    "    alpha=0.8);"
   ]
  },
  {
   "cell_type": "code",
   "execution_count": 99,
   "id": "f6543b6c",
   "metadata": {},
   "outputs": [
    {
     "data": {
      "image/png": "[encoded data removed]",
      "text/plain": [
       "<Figure size 1500x800 with 1 Axes>"
      ]
     },
     "metadata": {},
     "output_type": "display_data"
    }
   ],
   "source": [
    "plt.figure(figsize=(15,8))\n",
    "sns.histplot(\n",
    "    df_ehsan,\n",
    "    x='Number of donations',\n",
    "    multiple=\"stack\", # also can be layer or dodge or fill\n",
    "    edgecolor = 'red',\n",
    "    color='blue',\n",
    "    alpha=0.8);"
   ]
  },
  {
   "cell_type": "markdown",
   "id": "0efa71f2",
   "metadata": {},
   "source": [
    "### 2. Bivariate/Multivariate Analysis:\n",
    "- Heat map\n",
    "- Bar Chart\n",
    "- Scatter Chart\n",
    "- Line Chart"
   ]
  },
  {
   "cell_type": "code",
   "execution_count": 101,
   "id": "e82e4190",
   "metadata": {},
   "outputs": [
    {
     "data": {
      "image/png": "[encoded data removed]",
      "text/plain": [
       "<Figure size 1000x600 with 2 Axes>"
      ]
     },
     "metadata": {},
     "output_type": "display_data"
    }
   ],
   "source": [
    "plt.figure(figsize=(10, 6))\n",
    "sns.heatmap(df_ehsan.select_dtypes(include=np.number).corr(), annot=True, fmt=\".2f\", cmap=\"coolwarm\", linewidths=0.5)\n",
    "plt.title(\"Ehsan\")\n",
    "plt.show()"
   ]
  },
  {
   "cell_type": "code",
   "execution_count": 62,
   "id": "1e8924b7",
   "metadata": {},
   "outputs": [
    {
     "data": {
      "image/png": "[encoded data removed]",
      "text/plain": [
       "<Figure size 1200x800 with 1 Axes>"
      ]
     },
     "metadata": {},
     "output_type": "display_data"
    }
   ],
   "source": [
    "most_player = df_Football_Players.sort_values('current_value', ascending=False).head(10)\n",
    "\n",
    "plt.figure(figsize=(12, 8))\n",
    "sns.barplot(x=most_player['name'], y=most_player['current_value'], palette=\"coolwarm\")\n",
    "\n",
    "# Add the actual values on top of the bars\n",
    "for index, value in enumerate(most_player['current_value']):\n",
    "    plt.text(index, value + 1, f'{value:,.0f}', ha='center', va='bottom', fontsize=10)\n",
    "\n",
    "plt.xlabel(\"Player Name\")\n",
    "plt.ylabel(\"Value\")\n",
    "plt.title(\"Most Transfer Fees of Player\")\n",
    "plt.grid(axis=\"y\", linestyle=\"--\", alpha=0.7)\n",
    "plt.xticks(rotation=45, ha='right')  # Rotate the x-axis labels for better readability\n",
    "plt.show()"
   ]
  },
  {
   "cell_type": "markdown",
   "id": "e84a93e2",
   "metadata": {},
   "source": [
    "## Save the data "
   ]
  },
  {
   "cell_type": "code",
   "execution_count": null,
   "id": "217484f9",
   "metadata": {},
   "outputs": [],
   "source": [
    "#df_Football_Players.to_csv('data/clean_data.csv')"
   ]
  }
 ],
 "metadata": {
  "kernelspec": {
   "display_name": "Python 3",
   "language": "python",
   "name": "python3"
  },
  "language_info": {
   "codemirror_mode": {
    "name": "ipython",
    "version": 3
   },
   "file_extension": ".py",
   "mimetype": "text/x-python",
   "name": "python",
   "nbconvert_exporter": "python",
   "pygments_lexer": "ipython3",
   "version": "3.10.8"
  }
 },
 "nbformat": 4,
 "nbformat_minor": 5
}
