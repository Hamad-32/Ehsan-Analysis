{
  "cells": [
    {
      "cell_type": "markdown",
      "metadata": {
        "id": "5t6NMx8sZid8"
      },
      "source": [
        "## Import Libraries"
      ]
    },
    {
      "cell_type": "code",
      "execution_count": 68,
      "metadata": {
        "id": "PSrixL5-ZieA"
      },
      "outputs": [],
      "source": [
        "# To ignore warnings\n",
        "import warnings\n",
        "warnings.filterwarnings(\"ignore\")\n",
        "import pandas as pd\n",
        "import numpy as np\n",
        "import matplotlib.pyplot as plt\n",
        "import seaborn as sns\n",
        "\n",
        "from sklearn.model_selection import train_test_split, cross_val_score\n",
        "from sklearn.preprocessing import StandardScaler\n",
        "from sklearn.cluster import KMeans\n",
        "from sklearn.preprocessing import LabelEncoder\n",
        "\n",
        "from sklearn import metrics\n",
        "from sklearn.cluster import DBSCAN\n",
        "\n",
        "\n",
        "%matplotlib inline"
      ]
    },
    {
      "cell_type": "markdown",
      "metadata": {
        "id": "4vbQHYk-ZieD"
      },
      "source": [
        "## Load the Data"
      ]
    },
    {
      "cell_type": "code",
      "execution_count": 69,
      "metadata": {
        "id": "DBrtTawjZieE"
      },
      "outputs": [],
      "source": [
        "df = pd.read_csv(\"Data/ehsan_cleaned(1).csv\")"
      ]
    },
    {
      "cell_type": "code",
      "execution_count": 70,
      "metadata": {
        "colab": {
          "base_uri": "https://localhost:8080/"
        },
        "id": "aNnXxOhWZieE",
        "outputId": "67e3d235-b9a1-44cc-fc69-0606158dcdab"
      },
      "outputs": [
        {
          "data": {
            "text/plain": [
              "(1485, 12)"
            ]
          },
          "execution_count": 70,
          "metadata": {},
          "output_type": "execute_result"
        }
      ],
      "source": [
        "df.shape"
      ]
    },
    {
      "cell_type": "code",
      "execution_count": 71,
      "metadata": {
        "colab": {
          "base_uri": "https://localhost:8080/",
          "height": 164
        },
        "id": "PrELv9JRZieG",
        "outputId": "a6c1bb47-e37b-4fc1-da69-c9b2862f63a7",
        "scrolled": true
      },
      "outputs": [
        {
          "data": {
            "text/html": [
              "<div>\n",
              "<style scoped>\n",
              "    .dataframe tbody tr th:only-of-type {\n",
              "        vertical-align: middle;\n",
              "    }\n",
              "\n",
              "    .dataframe tbody tr th {\n",
              "        vertical-align: top;\n",
              "    }\n",
              "\n",
              "    .dataframe thead th {\n",
              "        text-align: right;\n",
              "    }\n",
              "</style>\n",
              "<table border=\"1\" class=\"dataframe\">\n",
              "  <thead>\n",
              "    <tr style=\"text-align: right;\">\n",
              "      <th></th>\n",
              "      <th>Unnamed: 0</th>\n",
              "      <th>Case Number</th>\n",
              "      <th>Project Names</th>\n",
              "      <th>Amount</th>\n",
              "      <th>Date</th>\n",
              "      <th>Beneficiaries</th>\n",
              "      <th>Beneficiary type</th>\n",
              "      <th>Number of donations</th>\n",
              "      <th>Partner</th>\n",
              "      <th>Location</th>\n",
              "      <th>Details URL</th>\n",
              "      <th>Hijri_Month</th>\n",
              "    </tr>\n",
              "  </thead>\n",
              "  <tbody>\n",
              "    <tr>\n",
              "      <th>1483</th>\n",
              "      <td>1483</td>\n",
              "      <td>P47317</td>\n",
              "      <td>دعم الأسر المنتجة</td>\n",
              "      <td>200000</td>\n",
              "      <td>2024-01-25</td>\n",
              "      <td>10</td>\n",
              "      <td>المواطنون</td>\n",
              "      <td>18792</td>\n",
              "      <td>جمعية التنمية الأهلية بالشقيق</td>\n",
              "      <td>الشقيق</td>\n",
              "      <td>https://ehsan.sa/projects/0/46318?amount=null</td>\n",
              "      <td>رجب</td>\n",
              "    </tr>\n",
              "    <tr>\n",
              "      <th>1484</th>\n",
              "      <td>1484</td>\n",
              "      <td>P47306</td>\n",
              "      <td>دعم الأسر المحتاجة</td>\n",
              "      <td>250000</td>\n",
              "      <td>2024-01-25</td>\n",
              "      <td>250</td>\n",
              "      <td>المواطنون</td>\n",
              "      <td>16538</td>\n",
              "      <td>جمعية البر والخدمات الاجتماعية بمركز ترج</td>\n",
              "      <td>بيشة</td>\n",
              "      <td>https://ehsan.sa/projects/0/46307?amount=null</td>\n",
              "      <td>رجب</td>\n",
              "    </tr>\n",
              "  </tbody>\n",
              "</table>\n",
              "</div>"
            ],
            "text/plain": [
              "      Unnamed: 0 Case Number       Project Names  Amount        Date  \\\n",
              "1483        1483      P47317   دعم الأسر المنتجة  200000  2024-01-25   \n",
              "1484        1484      P47306  دعم الأسر المحتاجة  250000  2024-01-25   \n",
              "\n",
              "      Beneficiaries Beneficiary type  Number of donations  \\\n",
              "1483             10        المواطنون                18792   \n",
              "1484            250        المواطنون                16538   \n",
              "\n",
              "                                       Partner Location  \\\n",
              "1483             جمعية التنمية الأهلية بالشقيق   الشقيق   \n",
              "1484  جمعية البر والخدمات الاجتماعية بمركز ترج     بيشة   \n",
              "\n",
              "                                        Details URL Hijri_Month  \n",
              "1483  https://ehsan.sa/projects/0/46318?amount=null         رجب  \n",
              "1484  https://ehsan.sa/projects/0/46307?amount=null         رجب  "
            ]
          },
          "execution_count": 71,
          "metadata": {},
          "output_type": "execute_result"
        }
      ],
      "source": [
        "df.tail(2)"
      ]
    },
    {
      "cell_type": "code",
      "execution_count": 72,
      "metadata": {
        "colab": {
          "base_uri": "https://localhost:8080/",
          "height": 489
        },
        "id": "uD3lYlw0L49i",
        "outputId": "a68a71fa-cbee-4185-a9c9-fc58348affdf"
      },
      "outputs": [
        {
          "data": {
            "text/plain": [
              "Location\n",
              "الرياض             201\n",
              "مكة المكرمة        159\n",
              "جدة                 57\n",
              "المدينة المنورة     52\n",
              "جازان               39\n",
              "                  ... \n",
              "الظهران              1\n",
              "صبيح                 1\n",
              "الجلة وتبراك         1\n",
              "المحلاني             1\n",
              "الجرين               1\n",
              "Name: count, Length: 284, dtype: int64"
            ]
          },
          "execution_count": 72,
          "metadata": {},
          "output_type": "execute_result"
        }
      ],
      "source": [
        "df['Location'].value_counts()"
      ]
    },
    {
      "cell_type": "code",
      "execution_count": 73,
      "metadata": {
        "id": "ajkKMLuuNTEB"
      },
      "outputs": [],
      "source": [
        "# Create a mapping of locations to their encoded values based on frequency\n",
        "location_counts = df['Location'].value_counts()\n",
        "location_mapping = {location: i for i, location in enumerate(location_counts.index)}\n",
        "\n",
        "# Create a custom encoding function using the mapping\n",
        "def encode_location(location):\n",
        "    return location_mapping.get(location)\n",
        "\n",
        "# Apply the custom encoding function to the 'Location' column\n",
        "df['Location_encoded'] = df['Location'].apply(encode_location)\n",
        "\n",
        "# Now, df['Location_encoded'] contains encoded values\n",
        "# that reflect the frequency of locations in the original data"
      ]
    },
    {
      "cell_type": "code",
      "execution_count": 74,
      "metadata": {
        "colab": {
          "base_uri": "https://localhost:8080/",
          "height": 489
        },
        "id": "0kLMYE3UQcPJ",
        "outputId": "137121c1-acac-41ac-beec-01b85d0e42f5"
      },
      "outputs": [
        {
          "data": {
            "text/plain": [
              "Partner\n",
              "جمعية رحماء الصحية                                      82\n",
              "جمعية الإحسان الطبية الخيرية                            23\n",
              "مجمع الملك فهد لطباعة المصحف الشريف بالمدينة المنورة    20\n",
              "جمعية الكوثر الصحية بعسير                               12\n",
              "جمعية عناية الصحية                                      12\n",
              "                                                        ..\n",
              "الجمعية الخيرية لاكرام المسنين                           1\n",
              "الجمعية الخيرية بمحافظة سميراء                           1\n",
              "جمعية البر الخيرية بالجله وتبراك                         1\n",
              "الجمعية الخيرية بشقراء                                   1\n",
              "جمعية مرضى الكلى بحائل                                   1\n",
              "Name: count, Length: 742, dtype: int64"
            ]
          },
          "execution_count": 74,
          "metadata": {},
          "output_type": "execute_result"
        }
      ],
      "source": [
        "df['Partner'].value_counts()"
      ]
    },
    {
      "cell_type": "code",
      "execution_count": 75,
      "metadata": {
        "id": "ls8s-JbbQVtf"
      },
      "outputs": [],
      "source": [
        "# Create a mapping of partners to their encoded values based on frequency\n",
        "partner_counts = df['Partner'].value_counts()\n",
        "partner_mapping = {partner: i for i, partner in enumerate(partner_counts.index)}\n",
        "\n",
        "# Create a custom encoding function using the mapping\n",
        "def encode_partner(partner):\n",
        "    return partner_mapping.get(partner)\n",
        "\n",
        "# Apply the custom encoding function to the 'Partner' column\n",
        "df['Partner_encoded'] = df['Partner'].apply(encode_partner)\n",
        "\n"
      ]
    },
    {
      "cell_type": "code",
      "execution_count": 76,
      "metadata": {
        "colab": {
          "base_uri": "https://localhost:8080/"
        },
        "id": "eDOUw2iFMNIq",
        "outputId": "11d49c35-9300-4317-b1d2-ed33095c7c9a"
      },
      "outputs": [],
      "source": [
        "#!pip install hijri-converter"
      ]
    },
    {
      "cell_type": "code",
      "execution_count": 77,
      "metadata": {
        "id": "-YkBdJSLMbqq"
      },
      "outputs": [],
      "source": [
        "from hijri_converter import convert"
      ]
    },
    {
      "cell_type": "code",
      "execution_count": 78,
      "metadata": {
        "id": "i1aNGyHZNLpA"
      },
      "outputs": [],
      "source": [
        "def get_hijri_month_num(date_str):\n",
        "    # Convert the date string to a datetime object\n",
        "    date_obj = pd.to_datetime(date_str, format='%Y-%m-%d', errors='coerce')  # Adjust format if needed\n",
        "\n",
        "    # Check if the conversion was successful\n",
        "    if pd.notna(date_obj):\n",
        "        hijri_date = convert.Gregorian(date_obj.year, date_obj.month, date_obj.day).to_hijri()\n",
        "        hijri_month = hijri_date.month  # Get the Hijri month number\n",
        "        return hijri_month  # Return the number directly\n",
        "    else:\n",
        "        return None  # Handle invalid date strings\n",
        "\n",
        "# Apply the function to the 'Date' column and create a new 'Hijri_Month_Num' column\n",
        "df['Hijri_Month'] = df['Date'].apply(get_hijri_month_num)"
      ]
    },
    {
      "cell_type": "markdown",
      "metadata": {
        "id": "0yDP3JczJQXP"
      },
      "source": [
        "#### 2. Feature Engineering"
      ]
    },
    {
      "cell_type": "code",
      "execution_count": 79,
      "metadata": {
        "colab": {
          "base_uri": "https://localhost:8080/",
          "height": 892
        },
        "id": "5Ks5pqgYNeq0",
        "outputId": "43b7d71f-e960-4e5b-9a08-80c2bcc13859"
      },
      "outputs": [
        {
          "data": {
            "text/html": [
              "<div>\n",
              "<style scoped>\n",
              "    .dataframe tbody tr th:only-of-type {\n",
              "        vertical-align: middle;\n",
              "    }\n",
              "\n",
              "    .dataframe tbody tr th {\n",
              "        vertical-align: top;\n",
              "    }\n",
              "\n",
              "    .dataframe thead th {\n",
              "        text-align: right;\n",
              "    }\n",
              "</style>\n",
              "<table border=\"1\" class=\"dataframe\">\n",
              "  <thead>\n",
              "    <tr style=\"text-align: right;\">\n",
              "      <th></th>\n",
              "      <th>Unnamed: 0</th>\n",
              "      <th>Case Number</th>\n",
              "      <th>Project Names</th>\n",
              "      <th>Amount</th>\n",
              "      <th>Date</th>\n",
              "      <th>Beneficiaries</th>\n",
              "      <th>Beneficiary type</th>\n",
              "      <th>Number of donations</th>\n",
              "      <th>Partner</th>\n",
              "      <th>Location</th>\n",
              "      <th>Details URL</th>\n",
              "      <th>Hijri_Month</th>\n",
              "      <th>Location_encoded</th>\n",
              "      <th>Partner_encoded</th>\n",
              "    </tr>\n",
              "  </thead>\n",
              "  <tbody>\n",
              "    <tr>\n",
              "      <th>0</th>\n",
              "      <td>0</td>\n",
              "      <td>P49631</td>\n",
              "      <td>وجبات الإفطار في ساحات الحرم المكي</td>\n",
              "      <td>300000</td>\n",
              "      <td>2025-03-07</td>\n",
              "      <td>20000</td>\n",
              "      <td>المواطنون والمقيمون بالمملكة</td>\n",
              "      <td>16226</td>\n",
              "      <td>جمعية البر الخيرية بالأبواء</td>\n",
              "      <td>مكة المكرمة</td>\n",
              "      <td>https://ehsan.sa/projects/0/48632?amount=null</td>\n",
              "      <td>9</td>\n",
              "      <td>1</td>\n",
              "      <td>312</td>\n",
              "    </tr>\n",
              "    <tr>\n",
              "      <th>1</th>\n",
              "      <td>1</td>\n",
              "      <td>P49553</td>\n",
              "      <td>وجبات السحور للصائمين</td>\n",
              "      <td>280000</td>\n",
              "      <td>2025-03-07</td>\n",
              "      <td>20000</td>\n",
              "      <td>المواطنون والمقيمون بالمملكة</td>\n",
              "      <td>24403</td>\n",
              "      <td>جمعية البر الخيرية بالنويعمة</td>\n",
              "      <td>وادى الدواسر</td>\n",
              "      <td>https://ehsan.sa/projects/0/48554?amount=null</td>\n",
              "      <td>9</td>\n",
              "      <td>49</td>\n",
              "      <td>112</td>\n",
              "    </tr>\n",
              "    <tr>\n",
              "      <th>2</th>\n",
              "      <td>2</td>\n",
              "      <td>P49625</td>\n",
              "      <td>وجبات الإفطار لضيوف الرحمن</td>\n",
              "      <td>300000</td>\n",
              "      <td>2025-03-07</td>\n",
              "      <td>30000</td>\n",
              "      <td>المواطنون والمقيمون بالمملكة</td>\n",
              "      <td>11930</td>\n",
              "      <td>جمعية البر الخيرية بالحوية</td>\n",
              "      <td>السيل الكبير</td>\n",
              "      <td>https://ehsan.sa/projects/0/48626?amount=null</td>\n",
              "      <td>9</td>\n",
              "      <td>154</td>\n",
              "      <td>113</td>\n",
              "    </tr>\n",
              "    <tr>\n",
              "      <th>3</th>\n",
              "      <td>3</td>\n",
              "      <td>P49618</td>\n",
              "      <td>ترميم مساكن المتعففين</td>\n",
              "      <td>300000</td>\n",
              "      <td>2025-03-07</td>\n",
              "      <td>11</td>\n",
              "      <td>المواطنون</td>\n",
              "      <td>9378</td>\n",
              "      <td>الجمعية الخيرية ببللحمر</td>\n",
              "      <td>باللحمر</td>\n",
              "      <td>https://ehsan.sa/projects/0/48619?amount=null</td>\n",
              "      <td>9</td>\n",
              "      <td>155</td>\n",
              "      <td>314</td>\n",
              "    </tr>\n",
              "    <tr>\n",
              "      <th>4</th>\n",
              "      <td>4</td>\n",
              "      <td>P49626</td>\n",
              "      <td>عملية في العمود الفقري لمريضة متعففة</td>\n",
              "      <td>24000</td>\n",
              "      <td>2025-03-07</td>\n",
              "      <td>1</td>\n",
              "      <td>المقيمون بالمملكة</td>\n",
              "      <td>145</td>\n",
              "      <td>جمعية رحماء الصحية</td>\n",
              "      <td>الرياض</td>\n",
              "      <td>https://ehsan.sa/projects/0/48627?amount=null</td>\n",
              "      <td>9</td>\n",
              "      <td>0</td>\n",
              "      <td>0</td>\n",
              "    </tr>\n",
              "    <tr>\n",
              "      <th>...</th>\n",
              "      <td>...</td>\n",
              "      <td>...</td>\n",
              "      <td>...</td>\n",
              "      <td>...</td>\n",
              "      <td>...</td>\n",
              "      <td>...</td>\n",
              "      <td>...</td>\n",
              "      <td>...</td>\n",
              "      <td>...</td>\n",
              "      <td>...</td>\n",
              "      <td>...</td>\n",
              "      <td>...</td>\n",
              "      <td>...</td>\n",
              "      <td>...</td>\n",
              "    </tr>\n",
              "    <tr>\n",
              "      <th>1480</th>\n",
              "      <td>1480</td>\n",
              "      <td>P47450</td>\n",
              "      <td>توفير البطانيات للأسر المحتاجة</td>\n",
              "      <td>103680</td>\n",
              "      <td>2024-01-25</td>\n",
              "      <td>432</td>\n",
              "      <td>المواطنون</td>\n",
              "      <td>7685</td>\n",
              "      <td>جمعية الجرين الأهلية</td>\n",
              "      <td>الجرين</td>\n",
              "      <td>https://ehsan.sa/projects/0/46451?amount=null</td>\n",
              "      <td>7</td>\n",
              "      <td>283</td>\n",
              "      <td>712</td>\n",
              "    </tr>\n",
              "    <tr>\n",
              "      <th>1481</th>\n",
              "      <td>1481</td>\n",
              "      <td>P47439</td>\n",
              "      <td>غرس الأشجار لمكافحة التصحر</td>\n",
              "      <td>80000</td>\n",
              "      <td>2024-01-25</td>\n",
              "      <td>1000</td>\n",
              "      <td>المقيمون بالمملكة</td>\n",
              "      <td>8673</td>\n",
              "      <td>أجيالنا التطوعية</td>\n",
              "      <td>النماص</td>\n",
              "      <td>https://ehsan.sa/projects/0/46440?amount=null</td>\n",
              "      <td>7</td>\n",
              "      <td>44</td>\n",
              "      <td>711</td>\n",
              "    </tr>\n",
              "    <tr>\n",
              "      <th>1482</th>\n",
              "      <td>1482</td>\n",
              "      <td>P47441</td>\n",
              "      <td>تأثيث منازل المحتاجين</td>\n",
              "      <td>75000</td>\n",
              "      <td>2024-01-25</td>\n",
              "      <td>3</td>\n",
              "      <td>المواطنون</td>\n",
              "      <td>4777</td>\n",
              "      <td>جمعية البر الاهلية بباشوت</td>\n",
              "      <td>باشوت</td>\n",
              "      <td>https://ehsan.sa/projects/0/46442?amount=null</td>\n",
              "      <td>7</td>\n",
              "      <td>116</td>\n",
              "      <td>313</td>\n",
              "    </tr>\n",
              "    <tr>\n",
              "      <th>1483</th>\n",
              "      <td>1483</td>\n",
              "      <td>P47317</td>\n",
              "      <td>دعم الأسر المنتجة</td>\n",
              "      <td>200000</td>\n",
              "      <td>2024-01-25</td>\n",
              "      <td>10</td>\n",
              "      <td>المواطنون</td>\n",
              "      <td>18792</td>\n",
              "      <td>جمعية التنمية الأهلية بالشقيق</td>\n",
              "      <td>الشقيق</td>\n",
              "      <td>https://ehsan.sa/projects/0/46318?amount=null</td>\n",
              "      <td>7</td>\n",
              "      <td>144</td>\n",
              "      <td>311</td>\n",
              "    </tr>\n",
              "    <tr>\n",
              "      <th>1484</th>\n",
              "      <td>1484</td>\n",
              "      <td>P47306</td>\n",
              "      <td>دعم الأسر المحتاجة</td>\n",
              "      <td>250000</td>\n",
              "      <td>2024-01-25</td>\n",
              "      <td>250</td>\n",
              "      <td>المواطنون</td>\n",
              "      <td>16538</td>\n",
              "      <td>جمعية البر والخدمات الاجتماعية بمركز ترج</td>\n",
              "      <td>بيشة</td>\n",
              "      <td>https://ehsan.sa/projects/0/46307?amount=null</td>\n",
              "      <td>7</td>\n",
              "      <td>7</td>\n",
              "      <td>110</td>\n",
              "    </tr>\n",
              "  </tbody>\n",
              "</table>\n",
              "<p>1485 rows × 14 columns</p>\n",
              "</div>"
            ],
            "text/plain": [
              "      Unnamed: 0 Case Number                         Project Names  Amount  \\\n",
              "0              0      P49631    وجبات الإفطار في ساحات الحرم المكي  300000   \n",
              "1              1      P49553                 وجبات السحور للصائمين  280000   \n",
              "2              2      P49625            وجبات الإفطار لضيوف الرحمن  300000   \n",
              "3              3      P49618                 ترميم مساكن المتعففين  300000   \n",
              "4              4      P49626  عملية في العمود الفقري لمريضة متعففة   24000   \n",
              "...          ...         ...                                   ...     ...   \n",
              "1480        1480      P47450        توفير البطانيات للأسر المحتاجة  103680   \n",
              "1481        1481      P47439            غرس الأشجار لمكافحة التصحر   80000   \n",
              "1482        1482      P47441                 تأثيث منازل المحتاجين   75000   \n",
              "1483        1483      P47317                     دعم الأسر المنتجة  200000   \n",
              "1484        1484      P47306                    دعم الأسر المحتاجة  250000   \n",
              "\n",
              "            Date  Beneficiaries              Beneficiary type  \\\n",
              "0     2025-03-07          20000  المواطنون والمقيمون بالمملكة   \n",
              "1     2025-03-07          20000  المواطنون والمقيمون بالمملكة   \n",
              "2     2025-03-07          30000  المواطنون والمقيمون بالمملكة   \n",
              "3     2025-03-07             11                     المواطنون   \n",
              "4     2025-03-07              1             المقيمون بالمملكة   \n",
              "...          ...            ...                           ...   \n",
              "1480  2024-01-25            432                     المواطنون   \n",
              "1481  2024-01-25           1000             المقيمون بالمملكة   \n",
              "1482  2024-01-25              3                     المواطنون   \n",
              "1483  2024-01-25             10                     المواطنون   \n",
              "1484  2024-01-25            250                     المواطنون   \n",
              "\n",
              "      Number of donations                                   Partner  \\\n",
              "0                   16226               جمعية البر الخيرية بالأبواء   \n",
              "1                   24403              جمعية البر الخيرية بالنويعمة   \n",
              "2                   11930                جمعية البر الخيرية بالحوية   \n",
              "3                    9378                   الجمعية الخيرية ببللحمر   \n",
              "4                     145                        جمعية رحماء الصحية   \n",
              "...                   ...                                       ...   \n",
              "1480                 7685                      جمعية الجرين الأهلية   \n",
              "1481                 8673                          أجيالنا التطوعية   \n",
              "1482                 4777                 جمعية البر الاهلية بباشوت   \n",
              "1483                18792             جمعية التنمية الأهلية بالشقيق   \n",
              "1484                16538  جمعية البر والخدمات الاجتماعية بمركز ترج   \n",
              "\n",
              "          Location                                    Details URL  \\\n",
              "0      مكة المكرمة  https://ehsan.sa/projects/0/48632?amount=null   \n",
              "1     وادى الدواسر  https://ehsan.sa/projects/0/48554?amount=null   \n",
              "2     السيل الكبير  https://ehsan.sa/projects/0/48626?amount=null   \n",
              "3          باللحمر  https://ehsan.sa/projects/0/48619?amount=null   \n",
              "4           الرياض  https://ehsan.sa/projects/0/48627?amount=null   \n",
              "...            ...                                            ...   \n",
              "1480        الجرين  https://ehsan.sa/projects/0/46451?amount=null   \n",
              "1481        النماص  https://ehsan.sa/projects/0/46440?amount=null   \n",
              "1482         باشوت  https://ehsan.sa/projects/0/46442?amount=null   \n",
              "1483        الشقيق  https://ehsan.sa/projects/0/46318?amount=null   \n",
              "1484          بيشة  https://ehsan.sa/projects/0/46307?amount=null   \n",
              "\n",
              "      Hijri_Month  Location_encoded  Partner_encoded  \n",
              "0               9                 1              312  \n",
              "1               9                49              112  \n",
              "2               9               154              113  \n",
              "3               9               155              314  \n",
              "4               9                 0                0  \n",
              "...           ...               ...              ...  \n",
              "1480            7               283              712  \n",
              "1481            7                44              711  \n",
              "1482            7               116              313  \n",
              "1483            7               144              311  \n",
              "1484            7                 7              110  \n",
              "\n",
              "[1485 rows x 14 columns]"
            ]
          },
          "execution_count": 79,
          "metadata": {},
          "output_type": "execute_result"
        }
      ],
      "source": [
        "df"
      ]
    },
    {
      "cell_type": "markdown",
      "metadata": {
        "id": "uR2vYARfZieP"
      },
      "source": [
        "\n",
        "\n",
        "#### 3. Feature selection"
      ]
    },
    {
      "cell_type": "code",
      "execution_count": 80,
      "metadata": {
        "id": "2Da4OmYgZieP"
      },
      "outputs": [],
      "source": [
        "df_1 = df[['Amount','Location_encoded','Hijri_Month','Partner_encoded']]"
      ]
    },
    {
      "cell_type": "code",
      "execution_count": 81,
      "metadata": {
        "id": "FcmrOdRDkv3Z"
      },
      "outputs": [],
      "source": [
        "df_2 = df[['Number of donations','Beneficiaries','Location_encoded','Hijri_Month']]"
      ]
    },
    {
      "cell_type": "code",
      "execution_count": 82,
      "metadata": {
        "colab": {
          "base_uri": "https://localhost:8080/",
          "height": 112
        },
        "id": "n1n1i7BlZieP",
        "outputId": "22d18198-812c-40b9-8961-89144cb4cc64"
      },
      "outputs": [
        {
          "data": {
            "text/html": [
              "<div>\n",
              "<style scoped>\n",
              "    .dataframe tbody tr th:only-of-type {\n",
              "        vertical-align: middle;\n",
              "    }\n",
              "\n",
              "    .dataframe tbody tr th {\n",
              "        vertical-align: top;\n",
              "    }\n",
              "\n",
              "    .dataframe thead th {\n",
              "        text-align: right;\n",
              "    }\n",
              "</style>\n",
              "<table border=\"1\" class=\"dataframe\">\n",
              "  <thead>\n",
              "    <tr style=\"text-align: right;\">\n",
              "      <th></th>\n",
              "      <th>Amount</th>\n",
              "      <th>Location_encoded</th>\n",
              "      <th>Hijri_Month</th>\n",
              "      <th>Partner_encoded</th>\n",
              "    </tr>\n",
              "  </thead>\n",
              "  <tbody>\n",
              "    <tr>\n",
              "      <th>0</th>\n",
              "      <td>300000</td>\n",
              "      <td>1</td>\n",
              "      <td>9</td>\n",
              "      <td>312</td>\n",
              "    </tr>\n",
              "    <tr>\n",
              "      <th>1</th>\n",
              "      <td>280000</td>\n",
              "      <td>49</td>\n",
              "      <td>9</td>\n",
              "      <td>112</td>\n",
              "    </tr>\n",
              "  </tbody>\n",
              "</table>\n",
              "</div>"
            ],
            "text/plain": [
              "   Amount  Location_encoded  Hijri_Month  Partner_encoded\n",
              "0  300000                 1            9              312\n",
              "1  280000                49            9              112"
            ]
          },
          "execution_count": 82,
          "metadata": {},
          "output_type": "execute_result"
        }
      ],
      "source": [
        "df_1.head(2)"
      ]
    },
    {
      "cell_type": "code",
      "execution_count": 83,
      "metadata": {
        "colab": {
          "base_uri": "https://localhost:8080/",
          "height": 112
        },
        "id": "K9PjNX0mImTF",
        "outputId": "c14e9f76-4696-4682-dba8-9b8ed9e81695"
      },
      "outputs": [
        {
          "data": {
            "text/html": [
              "<div>\n",
              "<style scoped>\n",
              "    .dataframe tbody tr th:only-of-type {\n",
              "        vertical-align: middle;\n",
              "    }\n",
              "\n",
              "    .dataframe tbody tr th {\n",
              "        vertical-align: top;\n",
              "    }\n",
              "\n",
              "    .dataframe thead th {\n",
              "        text-align: right;\n",
              "    }\n",
              "</style>\n",
              "<table border=\"1\" class=\"dataframe\">\n",
              "  <thead>\n",
              "    <tr style=\"text-align: right;\">\n",
              "      <th></th>\n",
              "      <th>Number of donations</th>\n",
              "      <th>Beneficiaries</th>\n",
              "      <th>Location_encoded</th>\n",
              "      <th>Hijri_Month</th>\n",
              "    </tr>\n",
              "  </thead>\n",
              "  <tbody>\n",
              "    <tr>\n",
              "      <th>0</th>\n",
              "      <td>16226</td>\n",
              "      <td>20000</td>\n",
              "      <td>1</td>\n",
              "      <td>9</td>\n",
              "    </tr>\n",
              "    <tr>\n",
              "      <th>1</th>\n",
              "      <td>24403</td>\n",
              "      <td>20000</td>\n",
              "      <td>49</td>\n",
              "      <td>9</td>\n",
              "    </tr>\n",
              "  </tbody>\n",
              "</table>\n",
              "</div>"
            ],
            "text/plain": [
              "   Number of donations  Beneficiaries  Location_encoded  Hijri_Month\n",
              "0                16226          20000                 1            9\n",
              "1                24403          20000                49            9"
            ]
          },
          "execution_count": 83,
          "metadata": {},
          "output_type": "execute_result"
        }
      ],
      "source": [
        "df_2.head(2)"
      ]
    },
    {
      "cell_type": "markdown",
      "metadata": {
        "id": "uHFjuFeBZieP"
      },
      "source": [
        "#### 4. Prepare train and test data"
      ]
    },
    {
      "cell_type": "code",
      "execution_count": 84,
      "metadata": {
        "id": "X6IMZM5VZieQ"
      },
      "outputs": [],
      "source": [
        "# Prepare data mor model_1\n",
        "X1 = df_1\n",
        "\n",
        "\n",
        "# sacle the data\n",
        "scaler = StandardScaler()\n",
        "X_scaled_1 = scaler.fit_transform(X1)"
      ]
    },
    {
      "cell_type": "code",
      "execution_count": 85,
      "metadata": {
        "id": "ftLFq42VlvLj"
      },
      "outputs": [],
      "source": [
        "# Prepare data for model_2\n",
        "X2 = df_2\n",
        "\n",
        "\n",
        "# sacle the data\n",
        "scaler = StandardScaler()\n",
        "X_scaled_2 = scaler.fit_transform(X2)"
      ]
    },
    {
      "cell_type": "code",
      "execution_count": 86,
      "metadata": {
        "colab": {
          "base_uri": "https://localhost:8080/"
        },
        "id": "O__uJoJAZieQ",
        "outputId": "007ec917-cb75-40c5-ba10-0465c00122c3"
      },
      "outputs": [
        {
          "data": {
            "text/plain": [
              "(1485, 4)"
            ]
          },
          "execution_count": 86,
          "metadata": {},
          "output_type": "execute_result"
        }
      ],
      "source": [
        "X1.shape\n"
      ]
    },
    {
      "cell_type": "code",
      "execution_count": 87,
      "metadata": {
        "colab": {
          "base_uri": "https://localhost:8080/"
        },
        "id": "RSFaI0W8l3XO",
        "outputId": "405159cf-7ee1-4edd-c26f-bbaf5ab0e74c"
      },
      "outputs": [
        {
          "data": {
            "text/plain": [
              "(1485, 4)"
            ]
          },
          "execution_count": 87,
          "metadata": {},
          "output_type": "execute_result"
        }
      ],
      "source": [
        "X2.shape"
      ]
    },
    {
      "cell_type": "markdown",
      "metadata": {
        "id": "ELGyX70kZied"
      },
      "source": [
        "## Evaluating the Model"
      ]
    },
    {
      "cell_type": "code",
      "execution_count": 88,
      "metadata": {
        "id": "9swFKaniK9LX"
      },
      "outputs": [],
      "source": [
        "from sklearn.metrics import silhouette_samples, silhouette_score"
      ]
    },
    {
      "cell_type": "markdown",
      "metadata": {
        "id": "Nh1B_mDqXS09"
      },
      "source": [
        "##DBSCAN models"
      ]
    },
    {
      "cell_type": "code",
      "execution_count": 89,
      "metadata": {
        "id": "aRXL7y4IZiek"
      },
      "outputs": [],
      "source": [
        "# 2. Create and fit the DBSCAN model\n",
        "X4 = df_2\n",
        "X_scaled_4 = scaler.fit_transform(X4)\n",
        "\n",
        "#model_4 = DBSCAN(eps=0.9, min_samples=3)\n",
        "model_4 = DBSCAN(eps=0.9, min_samples=6)  # Adjust eps and min_samples as needed\n",
        "#y_pred_4 = model_4.fit_predict(X_scaled_2)\n",
        "y_pred_4 = model_4.fit_predict(X_scaled_4)\n",
        "df_1['dbscan_cluster'] = y_pred_4"
      ]
    },
    {
      "cell_type": "markdown",
      "metadata": {},
      "source": []
    },
    {
      "cell_type": "code",
      "execution_count": 90,
      "metadata": {
        "colab": {
          "base_uri": "https://localhost:8080/"
        },
        "id": "4YFhRsBuEgQq",
        "outputId": "5c06915f-b3f1-47de-d7c9-5da57450bcad"
      },
      "outputs": [
        {
          "name": "stdout",
          "output_type": "stream",
          "text": [
            "number of cluster are for model_4: 5\n"
          ]
        }
      ],
      "source": [
        "cluster_num = len(set(y_pred_4))\n",
        "print(f'number of cluster are for model_4: {cluster_num}')"
      ]
    },
    {
      "cell_type": "code",
      "execution_count": 91,
      "metadata": {},
      "outputs": [
        {
          "data": {
            "text/plain": [
              "y_pred_4\n",
              " 0    1383\n",
              "-1      54\n",
              " 2      27\n",
              " 1      15\n",
              " 3       6\n",
              "Name: count, dtype: int64"
            ]
          },
          "execution_count": 91,
          "metadata": {},
          "output_type": "execute_result"
        }
      ],
      "source": [
        "X4['y_pred_4'] = y_pred_4\n",
        "X4['y_pred_4'].value_counts()"
      ]
    },
    {
      "cell_type": "code",
      "execution_count": 92,
      "metadata": {
        "colab": {
          "base_uri": "https://localhost:8080/",
          "height": 489
        },
        "id": "ekbKRV-RA0RJ",
        "outputId": "b5012ccb-92a7-4cdf-888c-e9f8d835e242"
      },
      "outputs": [
        {
          "data": {
            "image/png": "[encoded data removed]",
            "text/plain": [
              "<Figure size 640x480 with 1 Axes>"
            ]
          },
          "metadata": {},
          "output_type": "display_data"
        },
        {
          "name": "stdout",
          "output_type": "stream",
          "text": [
            "Silhouette average score: 0.8825800984591315\n"
          ]
        }
      ],
      "source": [
        "#df_2 = df[['Number of donations','Beneficiaries','Location_encoded','Hijri_Month']]\n",
        "\n",
        "# Calculate Silhouette scores for each data point\n",
        "silhouette_scores = silhouette_samples(X4, y_pred_4)\n",
        "\n",
        "# Calculate Silhouette average score\n",
        "silhouette_avg = silhouette_score(X4, y_pred_4)\n",
        "\n",
        "# Plot Silhouette scores\n",
        "plt.hist(silhouette_scores, bins=50, range=(-1, 1))\n",
        "plt.title('Histogram of Silhouette Scores_model-4')\n",
        "plt.xlabel('Silhouette Score')\n",
        "plt.ylabel('Number of Data Points')\n",
        "plt.show()\n",
        "\n",
        "print(f'Silhouette average score: {silhouette_avg}')"
      ]
    },
    {
      "cell_type": "markdown",
      "metadata": {
        "id": "sUcbnMBKeoSG"
      },
      "source": [
        "\n",
        "\n",
        "\n",
        "### model_4 visualization\n"
      ]
    },
    {
      "cell_type": "code",
      "execution_count": 101,
      "metadata": {},
      "outputs": [
        {
          "name": "stdout",
          "output_type": "stream",
          "text": [
            "<class 'pandas.core.frame.DataFrame'>\n",
            "RangeIndex: 1485 entries, 0 to 1484\n",
            "Data columns (total 5 columns):\n",
            " #   Column               Non-Null Count  Dtype\n",
            "---  ------               --------------  -----\n",
            " 0   Number of donations  1485 non-null   int64\n",
            " 1   Beneficiaries        1485 non-null   int64\n",
            " 2   Location_encoded     1485 non-null   int64\n",
            " 3   Hijri_Month          1485 non-null   int64\n",
            " 4   y_pred_4             1485 non-null   int64\n",
            "dtypes: int64(5)\n",
            "memory usage: 58.1 KB\n"
          ]
        }
      ],
      "source": [
        "df_2.info()"
      ]
    },
    {
      "cell_type": "code",
      "execution_count": 93,
      "metadata": {
        "colab": {
          "base_uri": "https://localhost:8080/",
          "height": 466
        },
        "id": "W4_6FwsVeoSG",
        "outputId": "4e6d82fb-f0d0-44ad-df87-11728db175d4"
      },
      "outputs": [
        {
          "data": {
            "text/plain": [
              "<Axes: xlabel='Number of donations', ylabel='Location_encoded'>"
            ]
          },
          "execution_count": 93,
          "metadata": {},
          "output_type": "execute_result"
        },
        {
          "data": {
            "image/png": "[encoded data removed]",
            "text/plain": [
              "<Figure size 640x480 with 1 Axes>"
            ]
          },
          "metadata": {},
          "output_type": "display_data"
        }
      ],
      "source": [
        "#df_2 = df[['Number of donations','Beneficiaries','Location_encoded','Hijri_Month']]\n",
        "sns.scatterplot(data = X4 , x = 'Number of donations', y = 'Location_encoded', hue = 'y_pred_4')"
      ]
    },
    {
      "cell_type": "code",
      "execution_count": 94,
      "metadata": {
        "colab": {
          "base_uri": "https://localhost:8080/",
          "height": 467
        },
        "id": "qKhRZl5keoSG",
        "outputId": "bc18ab35-aff9-416d-fd84-792c15b871f1"
      },
      "outputs": [
        {
          "data": {
            "text/plain": [
              "<Axes: xlabel='Location_encoded', ylabel='Hijri_Month'>"
            ]
          },
          "execution_count": 94,
          "metadata": {},
          "output_type": "execute_result"
        },
        {
          "data": {
            "image/png": "[encoded data removed]",
            "text/plain": [
              "<Figure size 640x480 with 1 Axes>"
            ]
          },
          "metadata": {},
          "output_type": "display_data"
        }
      ],
      "source": [
        "#df_2 = df[['Number of donations','Beneficiaries','Location_encoded','Hijri_Month']]\n",
        "sns.scatterplot(data = X4 , x = 'Location_encoded', y = 'Hijri_Month', hue = 'y_pred_4')\n",
        "\n"
      ]
    },
    {
      "cell_type": "code",
      "execution_count": 95,
      "metadata": {
        "colab": {
          "base_uri": "https://localhost:8080/",
          "height": 466
        },
        "id": "7MXr6sG9eoSH",
        "outputId": "d382ead1-632b-4923-b516-9e3e56788750"
      },
      "outputs": [
        {
          "data": {
            "text/plain": [
              "<Axes: xlabel='Number of donations', ylabel='Hijri_Month'>"
            ]
          },
          "execution_count": 95,
          "metadata": {},
          "output_type": "execute_result"
        },
        {
          "data": {
            "image/png": "[encoded data removed]",
            "text/plain": [
              "<Figure size 640x480 with 1 Axes>"
            ]
          },
          "metadata": {},
          "output_type": "display_data"
        }
      ],
      "source": [
        "#df_2 = df[['Number of donations','Beneficiaries','Location_encoded','Hijri_Month']]\n",
        "sns.scatterplot(data = X4, x = 'Number of donations', y = 'Hijri_Month', hue = 'y_pred_4')"
      ]
    },
    {
      "cell_type": "code",
      "execution_count": 96,
      "metadata": {
        "colab": {
          "base_uri": "https://localhost:8080/",
          "height": 466
        },
        "id": "szVhijHyeoSH",
        "outputId": "0530ae8f-8dc9-48d5-95ce-63863036968b"
      },
      "outputs": [
        {
          "data": {
            "text/plain": [
              "<Axes: xlabel='Beneficiaries', ylabel='Location_encoded'>"
            ]
          },
          "execution_count": 96,
          "metadata": {},
          "output_type": "execute_result"
        },
        {
          "data": {
            "image/png": "[encoded data removed]",
            "text/plain": [
              "<Figure size 640x480 with 1 Axes>"
            ]
          },
          "metadata": {},
          "output_type": "display_data"
        }
      ],
      "source": [
        "#df_2 = df[['Number of donations','Beneficiaries','Location_encoded','Hijri_Month']]\n",
        "sns.scatterplot(data = X4 , x = 'Beneficiaries', y = 'Location_encoded', hue = 'y_pred_4')"
      ]
    },
    {
      "cell_type": "code",
      "execution_count": 97,
      "metadata": {
        "colab": {
          "base_uri": "https://localhost:8080/",
          "height": 542
        },
        "id": "16xH_AK2eoSH",
        "outputId": "fce2c0bf-93bd-4a26-f787-267818964acf"
      },
      "outputs": [
        {
          "data": {
            "application/vnd.plotly.v1+json": {
              "config": {
                "plotlyServerURL": "https://plot.ly"
              },
              "data": [
                {
                  "hovertemplate": "Number of donations=%{x}<br>Location_encoded=%{y}<br>Hijri_Month=%{z}<br>y_pred_4=%{marker.color}<extra></extra>",
                  "legendgroup": "",
                  "marker": {
                    "color": {
                      "bdata": "AAAAAAAAAQAAAAAAAAAAAAAAAAAAAAD/AAAAAAAAAAAAAAAAAAAAAAAAAAAAAAACAAAAAAAAAAAAAgAAAAAAAAAAAAAAAAAAAAAAAAAAAAAAAAAAAAAAAwAAAAAAAAAAAAAAAAAAAAAAAAAAAAAAAAAAAP8AAAAAAAAAAAAAAAAAAAAAAAAAAAAAAAAAAAAAAAAAAAAAAAAAAAAAAAAA/wAAAAAAAAAAAAAAAAAAAAAAAAAAAAAAAAAAAAAAAAAAAAAAAAAAAAAAAAAAAAAAAAAAAAAAAAABAAAAAAAAAAAAAAAAAAAAAAAAAAAAAAAAAAAAAAAAAAD/AP8AAAAAAAAA/wAAAAAAAAAAAAAAAAAAAAAAAP8AAAAAAAAAAAAAAAAAAAAAAAAAAAAAAAAAAAAAAAAAAAAAAAAAAP8AAAAA/wAAAAAAAAAAAAAA/wAAAAAA/wAAAAAAAAAAAAAAAAAAAAAAAAAAAAAAAAAAAAAAAAAAAAAAAAAAAAAAAAAAAAAAAAAAAAAAAAAAAAAA/wAAAAAA//8AAAAAAAAAAAAAAAAAAP8AAAAAAAD/AAAAAAAAAAAA/wD/AAAAAAAAAAAAAAAA/wAAAAAAAP8AAAAAAAAAAAAAAAAAAAAAAAAAAAAAAAAAAAAAAAAA/wAAAAAAAAAA/wAA/wAAAAAAAP8AAAAAAAAAAAAAAAAAAAAAAAAAAAAAAAAAAAAAAAAAAAAAAAAAAP8AAAAAAAAAAAAAAAAAAAAAAAAAAAAAAAAAAAAA/wAAAAAAAAAA/wAAAP8AAAAAAP8AAAAAAgIAAAACAAAAAAACAP8BAAICAAABAAACAAAAAAAAAAIAAAABAAAA/wAAAAD/AAIAAAACAAAAAAAAAAACAAAAAgAAAP8AAAAAAAAAAP8AAAAAAAAAAAAAAAAAAAAAAQAAAAAAAP8AAAAAAAD/AAAAAAAAAP8AAAAAAAAAAAAAAgAAAAAAAAAAAAAAAAAAAAAAAAAAAAAAAAAAAgAAAAAAAAAAAAD/AAAAAAAAAAAAAAAAAAAAAP8AAAAAAAAAAAAAAAAAAAAAAAMAAAAAAAAAAAAAAAAAAAAAAAAAAAAA/wAAAAAAAAIAAAAAAAAAAP8BAAAAAAAAAAAAAAAAAAAAAgAAAAAAAAAAAAAAAAAAAAAAAAAAAAL/AP8AAAAAAAAAAAAA/wAAAAAAAAAAAAAAAAAAAAAAAAAAAAEAAAAAAAAAAAAA//8AAAAAAAAAAAAAAAAAAAAAAAAAAAACAAAAAAAAAAAAAAAAAAAAAAAAAAAAAAAA/wAAAAAAAP8AAAAAAAAAAAAAAAAAAAAAAAAAAAMAAAAAAAAAAAAAAAAAAAAAAAAAAAAAAAAAAAAAAAAAAAAAAgAAAP8AAAAAAAAAAAAAAAAAAAAAAAAAAAAAAAAAAAAAAAAAAAAAAAAAAAAAAAAAAAAAAAAAAAAAAAAA/wAA/wAAAAAAAAAAAAAAAAAAAgAAAAAAAAAAAAAAAAAAAAAAAAAAAAAAAAAAAAAAAAAAAAAAAAAAAAAAAAAAAAAAAAAAAAAAAAAAAAAAAAAAAAAAAAAAAAAAAgAAAAAAAAAAAAIAAAAAAAAAAAABAAAAAAAAAAAAAAAAAAAAAAAAAAAAAAAAAAAAAAAAAAAAAgAAAAAAAAAAAAAAAAAAAQAAAAAAAAAAAAAAAAAAAAAAAAAAAAAAAP8AAAAAAQAAAAAAAgAAAAD/AAAAAQAAAAMAAAAAAAAAAAAAAAAAAAAAAAAAAAAAAAADAAAAAAAAAAAAAgAAAAAAAAAAAAAAAAAAAAAAAAABAAAAAAAAAAAAAAAAAAD/AAAAAAAAAAAAAAEAAAAAAAAAAAMAAAAAAAAAAAAAAAAAAAAAAAAAAAAAAAAAAAAAAAAAAAAAAAAAAAAAAAAAAAAAAAAAAAAAAAAAAAAAAAAAAAABAAAAAAAAAAAAAAAAAAAAAAAAAAAAAAAA",
                      "dtype": "i1"
                    },
                    "coloraxis": "coloraxis",
                    "symbol": "circle"
                  },
                  "mode": "markers",
                  "name": "",
                  "scene": "scene",
                  "showlegend": false,
                  "type": "scatter3d",
                  "x": {
                    "bdata": "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",
                    "dtype": "i4"
                  },
                  "y": {
                    "bdata": "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",
                    "dtype": "i2"
                  },
                  "z": {
                    "bdata": "CQkJCQkJCQkJCQkJCQkJCQkJCQkJCQkJCQkJCQkJCQkJCQkJCQkJCQkICAgICAgICAgICAgICAgICAgICAgICAgICAgICAgICAgICAgICAgICAgICAgIBwcHBwcHBwcHBwcHBwcHBwcHBwcHBwcHBwcHBwcHBwcHBwcHBwcHBwcHBwcHBwcHBwcHBwcHBwcHBwYGBgYGBgYGBgYGBgYGBgYGBgYGBgYGBgYGBgYGBgYGBgYGBgYGBgYGBgYGBgYGBgYGBgYGBgYGBgYGBgYGBgYGBgUFBQUFBQUFBQUFBQUFBQUFBQUFBQUFBQUFBQUFBQUFBQUFBQUFBQUFBQUFBQUFBQUFBQUFBQUEBAQEBAQEBAQEBAQEBAQEBAQEBAQEBAQEBAQEBAQEBAQEBAQEBAQEBAQEBAMDAwMDAwMDAwMDAwMDAwMDAwMDAwMDAwMDAwMDAwMDAwMDAwMDAwMDAwMDAwMDAwMDAwMDAwICAgICAgICAgICAgICAgICAgICAgICAgICAgICAgICAgICAgICAgICAgICAgICAgICAgICAgICAgICAgICAgICAgICAgICAgICAgICAgICAgICAgEBAQEBAQEBAQEBAQEBAQEBAQEBAQEBAQEBAQEBAQEBAQEBAQEBAQEBAQEBAQEBAQEBAQEBAQEBAQEBAQEBAQEBAQEBAQEBAQwMDAwMDAwMDAwMDAwMDAwMDAwMDAwMDAwMDAwMDAwMDAwMDAwMDAwMDAwMDAwMDAwMDAwMDAwMDAwMDAwMDAwMDAwMDAwMDAwMDAwMDAwMDAwMDAwMDAwMDAwMDAwMDAwMDAwMDAwMDAwMDAwMDAwMDAwMDAwMDAwMDAwMDAwMDAwMDAwMDAwMDAwMDAwMDAwMDAsLCwsLCwsLCwsLCwsLCwsLCwsLCwsLCwsLCwsLCwsLCwsLCwsLCwsLCwsLCwsLCwsLCwsLCwsLCwsLCwsLCwsLCwsLCwsLCwsLCwsLCwsLCgoKCgoKCgoKCgoKCgoKCgoKCgoKCgoKCgoKCgoKCgoKCgoKCgoKCgoKCgoKCgoKCgoKCgoKCgoKCgoKCgoKCgoKCgoKCgoKCgoKCgoKCgoKCQkJCQkJCQkJCQkJCQkJCQkJCQkJCQkJCQkJCQkJCQkJCQkJCQkJCQkJCQkJCQkJCQkJCQkJCQkJCQkJCQkJCQkJCQkJCQkJCQkJCQkJCQkJCQkJCQkJCQkJCQkJCQkJCQkJCQkJCQkJCQkJCQkJCQkJCQkJCQkJCQkJCQkJCQkJCQkJCQkJCQkJCQkJCQkJCQkJCQkJCQkJCQkJCQkJCQkJCQkJCQkJCQkJCQkJCQkJCQkJCQkJCQkJCQkJCQkJCQkJCQkJCQkJCQkJCQkJCQkJCQkJCQkJCQkJCQkJCQkJCQkJCQkJCQkJCQkJCQkJCQkJCQkJCQkJCQkJCQkJCQkJCQkJCQkJCQkJCQkJCQkJCQkJCQkJCQkJCQkJCQkJCQkJCQkJCQkJCQkJCQkJCQkJCQkJCQkJCQkJCQkJCQkJCQkJCQkJCQkJCQkJCQkJCQkJCQkJCQkJCQkJCQkJCQkJCQkJCQkJCQkJCQkJCQkJCQkJCQkJCQkJCQkJCQkJCQkJCQkJCQkJCQkJCQkJCQkJCQkJCQkJCQkJCQkJCQkJCQkJCQkJCQkJCQkJCQkJCQkJCQkJCQkICAgICAgICAgICAgICAgICAgICAgICAgICAgICAgICAgICAgICAgICAgICAgICAgICAgICAgICAgICAgICAgICAgICAgICAgICAgICAgICAgICAgICAgICAgICAgICAgICAgICAgICAgICAgICAgICAgICAgICAgICAgICAgICAgICAgICAgICAgICAgICAgICAgICAgICAgICAgICAgHBwcHBwcHBwcHBwcHBwcHBwcHBwcHBwcHBwcHBwcHBwcHBwcHBwcHBwcHBwcHBwcHBwcHBwcHBwcH",
                    "dtype": "i1"
                  }
                }
              ],
              "layout": {
                "coloraxis": {
                  "colorbar": {
                    "title": {
                      "text": "y_pred_4"
                    }
                  },
                  "colorscale": [
                    [
                      0,
                      "#0d0887"
                    ],
                    [
                      0.1111111111111111,
                      "#46039f"
                    ],
                    [
                      0.2222222222222222,
                      "#7201a8"
                    ],
                    [
                      0.3333333333333333,
                      "#9c179e"
                    ],
                    [
                      0.4444444444444444,
                      "#bd3786"
                    ],
                    [
                      0.5555555555555556,
                      "#d8576b"
                    ],
                    [
                      0.6666666666666666,
                      "#ed7953"
                    ],
                    [
                      0.7777777777777778,
                      "#fb9f3a"
                    ],
                    [
                      0.8888888888888888,
                      "#fdca26"
                    ],
                    [
                      1,
                      "#f0f921"
                    ]
                  ]
                },
                "legend": {
                  "tracegroupgap": 0
                },
                "margin": {
                  "t": 60
                },
                "scene": {
                  "domain": {
                    "x": [
                      0,
                      1
                    ],
                    "y": [
                      0,
                      1
                    ]
                  },
                  "xaxis": {
                    "title": {
                      "text": "Number of donations"
                    }
                  },
                  "yaxis": {
                    "title": {
                      "text": "Location_encoded"
                    }
                  },
                  "zaxis": {
                    "title": {
                      "text": "Hijri_Month"
                    }
                  }
                },
                "template": {
                  "data": {
                    "bar": [
                      {
                        "error_x": {
                          "color": "#2a3f5f"
                        },
                        "error_y": {
                          "color": "#2a3f5f"
                        },
                        "marker": {
                          "line": {
                            "color": "#E5ECF6",
                            "width": 0.5
                          },
                          "pattern": {
                            "fillmode": "overlay",
                            "size": 10,
                            "solidity": 0.2
                          }
                        },
                        "type": "bar"
                      }
                    ],
                    "barpolar": [
                      {
                        "marker": {
                          "line": {
                            "color": "#E5ECF6",
                            "width": 0.5
                          },
                          "pattern": {
                            "fillmode": "overlay",
                            "size": 10,
                            "solidity": 0.2
                          }
                        },
                        "type": "barpolar"
                      }
                    ],
                    "carpet": [
                      {
                        "aaxis": {
                          "endlinecolor": "#2a3f5f",
                          "gridcolor": "white",
                          "linecolor": "white",
                          "minorgridcolor": "white",
                          "startlinecolor": "#2a3f5f"
                        },
                        "baxis": {
                          "endlinecolor": "#2a3f5f",
                          "gridcolor": "white",
                          "linecolor": "white",
                          "minorgridcolor": "white",
                          "startlinecolor": "#2a3f5f"
                        },
                        "type": "carpet"
                      }
                    ],
                    "choropleth": [
                      {
                        "colorbar": {
                          "outlinewidth": 0,
                          "ticks": ""
                        },
                        "type": "choropleth"
                      }
                    ],
                    "contour": [
                      {
                        "colorbar": {
                          "outlinewidth": 0,
                          "ticks": ""
                        },
                        "colorscale": [
                          [
                            0,
                            "#0d0887"
                          ],
                          [
                            0.1111111111111111,
                            "#46039f"
                          ],
                          [
                            0.2222222222222222,
                            "#7201a8"
                          ],
                          [
                            0.3333333333333333,
                            "#9c179e"
                          ],
                          [
                            0.4444444444444444,
                            "#bd3786"
                          ],
                          [
                            0.5555555555555556,
                            "#d8576b"
                          ],
                          [
                            0.6666666666666666,
                            "#ed7953"
                          ],
                          [
                            0.7777777777777778,
                            "#fb9f3a"
                          ],
                          [
                            0.8888888888888888,
                            "#fdca26"
                          ],
                          [
                            1,
                            "#f0f921"
                          ]
                        ],
                        "type": "contour"
                      }
                    ],
                    "contourcarpet": [
                      {
                        "colorbar": {
                          "outlinewidth": 0,
                          "ticks": ""
                        },
                        "type": "contourcarpet"
                      }
                    ],
                    "heatmap": [
                      {
                        "colorbar": {
                          "outlinewidth": 0,
                          "ticks": ""
                        },
                        "colorscale": [
                          [
                            0,
                            "#0d0887"
                          ],
                          [
                            0.1111111111111111,
                            "#46039f"
                          ],
                          [
                            0.2222222222222222,
                            "#7201a8"
                          ],
                          [
                            0.3333333333333333,
                            "#9c179e"
                          ],
                          [
                            0.4444444444444444,
                            "#bd3786"
                          ],
                          [
                            0.5555555555555556,
                            "#d8576b"
                          ],
                          [
                            0.6666666666666666,
                            "#ed7953"
                          ],
                          [
                            0.7777777777777778,
                            "#fb9f3a"
                          ],
                          [
                            0.8888888888888888,
                            "#fdca26"
                          ],
                          [
                            1,
                            "#f0f921"
                          ]
                        ],
                        "type": "heatmap"
                      }
                    ],
                    "histogram": [
                      {
                        "marker": {
                          "pattern": {
                            "fillmode": "overlay",
                            "size": 10,
                            "solidity": 0.2
                          }
                        },
                        "type": "histogram"
                      }
                    ],
                    "histogram2d": [
                      {
                        "colorbar": {
                          "outlinewidth": 0,
                          "ticks": ""
                        },
                        "colorscale": [
                          [
                            0,
                            "#0d0887"
                          ],
                          [
                            0.1111111111111111,
                            "#46039f"
                          ],
                          [
                            0.2222222222222222,
                            "#7201a8"
                          ],
                          [
                            0.3333333333333333,
                            "#9c179e"
                          ],
                          [
                            0.4444444444444444,
                            "#bd3786"
                          ],
                          [
                            0.5555555555555556,
                            "#d8576b"
                          ],
                          [
                            0.6666666666666666,
                            "#ed7953"
                          ],
                          [
                            0.7777777777777778,
                            "#fb9f3a"
                          ],
                          [
                            0.8888888888888888,
                            "#fdca26"
                          ],
                          [
                            1,
                            "#f0f921"
                          ]
                        ],
                        "type": "histogram2d"
                      }
                    ],
                    "histogram2dcontour": [
                      {
                        "colorbar": {
                          "outlinewidth": 0,
                          "ticks": ""
                        },
                        "colorscale": [
                          [
                            0,
                            "#0d0887"
                          ],
                          [
                            0.1111111111111111,
                            "#46039f"
                          ],
                          [
                            0.2222222222222222,
                            "#7201a8"
                          ],
                          [
                            0.3333333333333333,
                            "#9c179e"
                          ],
                          [
                            0.4444444444444444,
                            "#bd3786"
                          ],
                          [
                            0.5555555555555556,
                            "#d8576b"
                          ],
                          [
                            0.6666666666666666,
                            "#ed7953"
                          ],
                          [
                            0.7777777777777778,
                            "#fb9f3a"
                          ],
                          [
                            0.8888888888888888,
                            "#fdca26"
                          ],
                          [
                            1,
                            "#f0f921"
                          ]
                        ],
                        "type": "histogram2dcontour"
                      }
                    ],
                    "mesh3d": [
                      {
                        "colorbar": {
                          "outlinewidth": 0,
                          "ticks": ""
                        },
                        "type": "mesh3d"
                      }
                    ],
                    "parcoords": [
                      {
                        "line": {
                          "colorbar": {
                            "outlinewidth": 0,
                            "ticks": ""
                          }
                        },
                        "type": "parcoords"
                      }
                    ],
                    "pie": [
                      {
                        "automargin": true,
                        "type": "pie"
                      }
                    ],
                    "scatter": [
                      {
                        "fillpattern": {
                          "fillmode": "overlay",
                          "size": 10,
                          "solidity": 0.2
                        },
                        "type": "scatter"
                      }
                    ],
                    "scatter3d": [
                      {
                        "line": {
                          "colorbar": {
                            "outlinewidth": 0,
                            "ticks": ""
                          }
                        },
                        "marker": {
                          "colorbar": {
                            "outlinewidth": 0,
                            "ticks": ""
                          }
                        },
                        "type": "scatter3d"
                      }
                    ],
                    "scattercarpet": [
                      {
                        "marker": {
                          "colorbar": {
                            "outlinewidth": 0,
                            "ticks": ""
                          }
                        },
                        "type": "scattercarpet"
                      }
                    ],
                    "scattergeo": [
                      {
                        "marker": {
                          "colorbar": {
                            "outlinewidth": 0,
                            "ticks": ""
                          }
                        },
                        "type": "scattergeo"
                      }
                    ],
                    "scattergl": [
                      {
                        "marker": {
                          "colorbar": {
                            "outlinewidth": 0,
                            "ticks": ""
                          }
                        },
                        "type": "scattergl"
                      }
                    ],
                    "scattermap": [
                      {
                        "marker": {
                          "colorbar": {
                            "outlinewidth": 0,
                            "ticks": ""
                          }
                        },
                        "type": "scattermap"
                      }
                    ],
                    "scattermapbox": [
                      {
                        "marker": {
                          "colorbar": {
                            "outlinewidth": 0,
                            "ticks": ""
                          }
                        },
                        "type": "scattermapbox"
                      }
                    ],
                    "scatterpolar": [
                      {
                        "marker": {
                          "colorbar": {
                            "outlinewidth": 0,
                            "ticks": ""
                          }
                        },
                        "type": "scatterpolar"
                      }
                    ],
                    "scatterpolargl": [
                      {
                        "marker": {
                          "colorbar": {
                            "outlinewidth": 0,
                            "ticks": ""
                          }
                        },
                        "type": "scatterpolargl"
                      }
                    ],
                    "scatterternary": [
                      {
                        "marker": {
                          "colorbar": {
                            "outlinewidth": 0,
                            "ticks": ""
                          }
                        },
                        "type": "scatterternary"
                      }
                    ],
                    "surface": [
                      {
                        "colorbar": {
                          "outlinewidth": 0,
                          "ticks": ""
                        },
                        "colorscale": [
                          [
                            0,
                            "#0d0887"
                          ],
                          [
                            0.1111111111111111,
                            "#46039f"
                          ],
                          [
                            0.2222222222222222,
                            "#7201a8"
                          ],
                          [
                            0.3333333333333333,
                            "#9c179e"
                          ],
                          [
                            0.4444444444444444,
                            "#bd3786"
                          ],
                          [
                            0.5555555555555556,
                            "#d8576b"
                          ],
                          [
                            0.6666666666666666,
                            "#ed7953"
                          ],
                          [
                            0.7777777777777778,
                            "#fb9f3a"
                          ],
                          [
                            0.8888888888888888,
                            "#fdca26"
                          ],
                          [
                            1,
                            "#f0f921"
                          ]
                        ],
                        "type": "surface"
                      }
                    ],
                    "table": [
                      {
                        "cells": {
                          "fill": {
                            "color": "#EBF0F8"
                          },
                          "line": {
                            "color": "white"
                          }
                        },
                        "header": {
                          "fill": {
                            "color": "#C8D4E3"
                          },
                          "line": {
                            "color": "white"
                          }
                        },
                        "type": "table"
                      }
                    ]
                  },
                  "layout": {
                    "annotationdefaults": {
                      "arrowcolor": "#2a3f5f",
                      "arrowhead": 0,
                      "arrowwidth": 1
                    },
                    "autotypenumbers": "strict",
                    "coloraxis": {
                      "colorbar": {
                        "outlinewidth": 0,
                        "ticks": ""
                      }
                    },
                    "colorscale": {
                      "diverging": [
                        [
                          0,
                          "#8e0152"
                        ],
                        [
                          0.1,
                          "#c51b7d"
                        ],
                        [
                          0.2,
                          "#de77ae"
                        ],
                        [
                          0.3,
                          "#f1b6da"
                        ],
                        [
                          0.4,
                          "#fde0ef"
                        ],
                        [
                          0.5,
                          "#f7f7f7"
                        ],
                        [
                          0.6,
                          "#e6f5d0"
                        ],
                        [
                          0.7,
                          "#b8e186"
                        ],
                        [
                          0.8,
                          "#7fbc41"
                        ],
                        [
                          0.9,
                          "#4d9221"
                        ],
                        [
                          1,
                          "#276419"
                        ]
                      ],
                      "sequential": [
                        [
                          0,
                          "#0d0887"
                        ],
                        [
                          0.1111111111111111,
                          "#46039f"
                        ],
                        [
                          0.2222222222222222,
                          "#7201a8"
                        ],
                        [
                          0.3333333333333333,
                          "#9c179e"
                        ],
                        [
                          0.4444444444444444,
                          "#bd3786"
                        ],
                        [
                          0.5555555555555556,
                          "#d8576b"
                        ],
                        [
                          0.6666666666666666,
                          "#ed7953"
                        ],
                        [
                          0.7777777777777778,
                          "#fb9f3a"
                        ],
                        [
                          0.8888888888888888,
                          "#fdca26"
                        ],
                        [
                          1,
                          "#f0f921"
                        ]
                      ],
                      "sequentialminus": [
                        [
                          0,
                          "#0d0887"
                        ],
                        [
                          0.1111111111111111,
                          "#46039f"
                        ],
                        [
                          0.2222222222222222,
                          "#7201a8"
                        ],
                        [
                          0.3333333333333333,
                          "#9c179e"
                        ],
                        [
                          0.4444444444444444,
                          "#bd3786"
                        ],
                        [
                          0.5555555555555556,
                          "#d8576b"
                        ],
                        [
                          0.6666666666666666,
                          "#ed7953"
                        ],
                        [
                          0.7777777777777778,
                          "#fb9f3a"
                        ],
                        [
                          0.8888888888888888,
                          "#fdca26"
                        ],
                        [
                          1,
                          "#f0f921"
                        ]
                      ]
                    },
                    "colorway": [
                      "#636efa",
                      "#EF553B",
                      "#00cc96",
                      "#ab63fa",
                      "#FFA15A",
                      "#19d3f3",
                      "#FF6692",
                      "#B6E880",
                      "#FF97FF",
                      "#FECB52"
                    ],
                    "font": {
                      "color": "#2a3f5f"
                    },
                    "geo": {
                      "bgcolor": "white",
                      "lakecolor": "white",
                      "landcolor": "#E5ECF6",
                      "showlakes": true,
                      "showland": true,
                      "subunitcolor": "white"
                    },
                    "hoverlabel": {
                      "align": "left"
                    },
                    "hovermode": "closest",
                    "mapbox": {
                      "style": "light"
                    },
                    "paper_bgcolor": "white",
                    "plot_bgcolor": "#E5ECF6",
                    "polar": {
                      "angularaxis": {
                        "gridcolor": "white",
                        "linecolor": "white",
                        "ticks": ""
                      },
                      "bgcolor": "#E5ECF6",
                      "radialaxis": {
                        "gridcolor": "white",
                        "linecolor": "white",
                        "ticks": ""
                      }
                    },
                    "scene": {
                      "xaxis": {
                        "backgroundcolor": "#E5ECF6",
                        "gridcolor": "white",
                        "gridwidth": 2,
                        "linecolor": "white",
                        "showbackground": true,
                        "ticks": "",
                        "zerolinecolor": "white"
                      },
                      "yaxis": {
                        "backgroundcolor": "#E5ECF6",
                        "gridcolor": "white",
                        "gridwidth": 2,
                        "linecolor": "white",
                        "showbackground": true,
                        "ticks": "",
                        "zerolinecolor": "white"
                      },
                      "zaxis": {
                        "backgroundcolor": "#E5ECF6",
                        "gridcolor": "white",
                        "gridwidth": 2,
                        "linecolor": "white",
                        "showbackground": true,
                        "ticks": "",
                        "zerolinecolor": "white"
                      }
                    },
                    "shapedefaults": {
                      "line": {
                        "color": "#2a3f5f"
                      }
                    },
                    "ternary": {
                      "aaxis": {
                        "gridcolor": "white",
                        "linecolor": "white",
                        "ticks": ""
                      },
                      "baxis": {
                        "gridcolor": "white",
                        "linecolor": "white",
                        "ticks": ""
                      },
                      "bgcolor": "#E5ECF6",
                      "caxis": {
                        "gridcolor": "white",
                        "linecolor": "white",
                        "ticks": ""
                      }
                    },
                    "title": {
                      "x": 0.05
                    },
                    "xaxis": {
                      "automargin": true,
                      "gridcolor": "white",
                      "linecolor": "white",
                      "ticks": "",
                      "title": {
                        "standoff": 15
                      },
                      "zerolinecolor": "white",
                      "zerolinewidth": 2
                    },
                    "yaxis": {
                      "automargin": true,
                      "gridcolor": "white",
                      "linecolor": "white",
                      "ticks": "",
                      "title": {
                        "standoff": 15
                      },
                      "zerolinecolor": "white",
                      "zerolinewidth": 2
                    }
                  }
                }
              }
            }
          },
          "metadata": {},
          "output_type": "display_data"
        }
      ],
      "source": [
        "#df_2 = df[['Number of donations','Beneficiaries','Location_encoded','Hijri_Month']]\n",
        "\n",
        "import plotly\n",
        "import plotly.express as px\n",
        "\n",
        "fig = px.scatter_3d(X4, x='Number of donations', y='Location_encoded', z='Hijri_Month',\n",
        "              color='y_pred_4')\n",
        "fig.show()"
      ]
    },
    {
      "cell_type": "code",
      "execution_count": 98,
      "metadata": {
        "colab": {
          "base_uri": "https://localhost:8080/",
          "height": 542
        },
        "id": "NmEC7OzEeoSI",
        "outputId": "5c8592ed-de67-4fc6-e056-796439fd2329"
      },
      "outputs": [
        {
          "data": {
            "application/vnd.plotly.v1+json": {
              "config": {
                "plotlyServerURL": "https://plot.ly"
              },
              "data": [
                {
                  "hovertemplate": "Beneficiaries=%{x}<br>Location_encoded=%{y}<br>Hijri_Month=%{z}<br>y_pred_4=%{marker.color}<extra></extra>",
                  "legendgroup": "",
                  "marker": {
                    "color": {
                      "bdata": "AAAAAAAAAQAAAAAAAAAAAAAAAAAAAAD/AAAAAAAAAAAAAAAAAAAAAAAAAAAAAAACAAAAAAAAAAAAAgAAAAAAAAAAAAAAAAAAAAAAAAAAAAAAAAAAAAAAAwAAAAAAAAAAAAAAAAAAAAAAAAAAAAAAAAAAAP8AAAAAAAAAAAAAAAAAAAAAAAAAAAAAAAAAAAAAAAAAAAAAAAAAAAAAAAAA/wAAAAAAAAAAAAAAAAAAAAAAAAAAAAAAAAAAAAAAAAAAAAAAAAAAAAAAAAAAAAAAAAAAAAAAAAABAAAAAAAAAAAAAAAAAAAAAAAAAAAAAAAAAAAAAAAAAAD/AP8AAAAAAAAA/wAAAAAAAAAAAAAAAAAAAAAAAP8AAAAAAAAAAAAAAAAAAAAAAAAAAAAAAAAAAAAAAAAAAAAAAAAAAP8AAAAA/wAAAAAAAAAAAAAA/wAAAAAA/wAAAAAAAAAAAAAAAAAAAAAAAAAAAAAAAAAAAAAAAAAAAAAAAAAAAAAAAAAAAAAAAAAAAAAAAAAAAAAA/wAAAAAA//8AAAAAAAAAAAAAAAAAAP8AAAAAAAD/AAAAAAAAAAAA/wD/AAAAAAAAAAAAAAAA/wAAAAAAAP8AAAAAAAAAAAAAAAAAAAAAAAAAAAAAAAAAAAAAAAAA/wAAAAAAAAAA/wAA/wAAAAAAAP8AAAAAAAAAAAAAAAAAAAAAAAAAAAAAAAAAAAAAAAAAAAAAAAAAAP8AAAAAAAAAAAAAAAAAAAAAAAAAAAAAAAAAAAAA/wAAAAAAAAAA/wAAAP8AAAAAAP8AAAAAAgIAAAACAAAAAAACAP8BAAICAAABAAACAAAAAAAAAAIAAAABAAAA/wAAAAD/AAIAAAACAAAAAAAAAAACAAAAAgAAAP8AAAAAAAAAAP8AAAAAAAAAAAAAAAAAAAAAAQAAAAAAAP8AAAAAAAD/AAAAAAAAAP8AAAAAAAAAAAAAAgAAAAAAAAAAAAAAAAAAAAAAAAAAAAAAAAAAAgAAAAAAAAAAAAD/AAAAAAAAAAAAAAAAAAAAAP8AAAAAAAAAAAAAAAAAAAAAAAMAAAAAAAAAAAAAAAAAAAAAAAAAAAAA/wAAAAAAAAIAAAAAAAAAAP8BAAAAAAAAAAAAAAAAAAAAAgAAAAAAAAAAAAAAAAAAAAAAAAAAAAL/AP8AAAAAAAAAAAAA/wAAAAAAAAAAAAAAAAAAAAAAAAAAAAEAAAAAAAAAAAAA//8AAAAAAAAAAAAAAAAAAAAAAAAAAAACAAAAAAAAAAAAAAAAAAAAAAAAAAAAAAAA/wAAAAAAAP8AAAAAAAAAAAAAAAAAAAAAAAAAAAMAAAAAAAAAAAAAAAAAAAAAAAAAAAAAAAAAAAAAAAAAAAAAAgAAAP8AAAAAAAAAAAAAAAAAAAAAAAAAAAAAAAAAAAAAAAAAAAAAAAAAAAAAAAAAAAAAAAAAAAAAAAAA/wAA/wAAAAAAAAAAAAAAAAAAAgAAAAAAAAAAAAAAAAAAAAAAAAAAAAAAAAAAAAAAAAAAAAAAAAAAAAAAAAAAAAAAAAAAAAAAAAAAAAAAAAAAAAAAAAAAAAAAAgAAAAAAAAAAAAIAAAAAAAAAAAABAAAAAAAAAAAAAAAAAAAAAAAAAAAAAAAAAAAAAAAAAAAAAgAAAAAAAAAAAAAAAAAAAQAAAAAAAAAAAAAAAAAAAAAAAAAAAAAAAP8AAAAAAQAAAAAAAgAAAAD/AAAAAQAAAAMAAAAAAAAAAAAAAAAAAAAAAAAAAAAAAAADAAAAAAAAAAAAAgAAAAAAAAAAAAAAAAAAAAAAAAABAAAAAAAAAAAAAAAAAAD/AAAAAAAAAAAAAAEAAAAAAAAAAAMAAAAAAAAAAAAAAAAAAAAAAAAAAAAAAAAAAAAAAAAAAAAAAAAAAAAAAAAAAAAAAAAAAAAAAAAAAAAAAAAAAAABAAAAAAAAAAAAAAAAAAAAAAAAAAAAAAAA",
                      "dtype": "i1"
                    },
                    "coloraxis": "coloraxis",
                    "symbol": "circle"
                  },
                  "mode": "markers",
                  "name": "",
                  "scene": "scene",
                  "showlegend": false,
                  "type": "scatter3d",
                  "x": {
                    "bdata": "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",
                    "dtype": "i4"
                  },
                  "y": {
                    "bdata": "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",
                    "dtype": "i2"
                  },
                  "z": {
                    "bdata": "CQkJCQkJCQkJCQkJCQkJCQkJCQkJCQkJCQkJCQkJCQkJCQkJCQkJCQkICAgICAgICAgICAgICAgICAgICAgICAgICAgICAgICAgICAgICAgICAgICAgIBwcHBwcHBwcHBwcHBwcHBwcHBwcHBwcHBwcHBwcHBwcHBwcHBwcHBwcHBwcHBwcHBwcHBwcHBwcHBwYGBgYGBgYGBgYGBgYGBgYGBgYGBgYGBgYGBgYGBgYGBgYGBgYGBgYGBgYGBgYGBgYGBgYGBgYGBgYGBgYGBgYGBgUFBQUFBQUFBQUFBQUFBQUFBQUFBQUFBQUFBQUFBQUFBQUFBQUFBQUFBQUFBQUFBQUFBQUFBQUEBAQEBAQEBAQEBAQEBAQEBAQEBAQEBAQEBAQEBAQEBAQEBAQEBAQEBAQEBAMDAwMDAwMDAwMDAwMDAwMDAwMDAwMDAwMDAwMDAwMDAwMDAwMDAwMDAwMDAwMDAwMDAwMDAwICAgICAgICAgICAgICAgICAgICAgICAgICAgICAgICAgICAgICAgICAgICAgICAgICAgICAgICAgICAgICAgICAgICAgICAgICAgICAgICAgICAgEBAQEBAQEBAQEBAQEBAQEBAQEBAQEBAQEBAQEBAQEBAQEBAQEBAQEBAQEBAQEBAQEBAQEBAQEBAQEBAQEBAQEBAQEBAQEBAQwMDAwMDAwMDAwMDAwMDAwMDAwMDAwMDAwMDAwMDAwMDAwMDAwMDAwMDAwMDAwMDAwMDAwMDAwMDAwMDAwMDAwMDAwMDAwMDAwMDAwMDAwMDAwMDAwMDAwMDAwMDAwMDAwMDAwMDAwMDAwMDAwMDAwMDAwMDAwMDAwMDAwMDAwMDAwMDAwMDAwMDAwMDAwMDAwMDAsLCwsLCwsLCwsLCwsLCwsLCwsLCwsLCwsLCwsLCwsLCwsLCwsLCwsLCwsLCwsLCwsLCwsLCwsLCwsLCwsLCwsLCwsLCwsLCwsLCwsLCwsLCgoKCgoKCgoKCgoKCgoKCgoKCgoKCgoKCgoKCgoKCgoKCgoKCgoKCgoKCgoKCgoKCgoKCgoKCgoKCgoKCgoKCgoKCgoKCgoKCgoKCgoKCgoKCQkJCQkJCQkJCQkJCQkJCQkJCQkJCQkJCQkJCQkJCQkJCQkJCQkJCQkJCQkJCQkJCQkJCQkJCQkJCQkJCQkJCQkJCQkJCQkJCQkJCQkJCQkJCQkJCQkJCQkJCQkJCQkJCQkJCQkJCQkJCQkJCQkJCQkJCQkJCQkJCQkJCQkJCQkJCQkJCQkJCQkJCQkJCQkJCQkJCQkJCQkJCQkJCQkJCQkJCQkJCQkJCQkJCQkJCQkJCQkJCQkJCQkJCQkJCQkJCQkJCQkJCQkJCQkJCQkJCQkJCQkJCQkJCQkJCQkJCQkJCQkJCQkJCQkJCQkJCQkJCQkJCQkJCQkJCQkJCQkJCQkJCQkJCQkJCQkJCQkJCQkJCQkJCQkJCQkJCQkJCQkJCQkJCQkJCQkJCQkJCQkJCQkJCQkJCQkJCQkJCQkJCQkJCQkJCQkJCQkJCQkJCQkJCQkJCQkJCQkJCQkJCQkJCQkJCQkJCQkJCQkJCQkJCQkJCQkJCQkJCQkJCQkJCQkJCQkJCQkJCQkJCQkJCQkJCQkJCQkJCQkJCQkJCQkJCQkJCQkJCQkJCQkJCQkJCQkJCQkJCQkJCQkICAgICAgICAgICAgICAgICAgICAgICAgICAgICAgICAgICAgICAgICAgICAgICAgICAgICAgICAgICAgICAgICAgICAgICAgICAgICAgICAgICAgICAgICAgICAgICAgICAgICAgICAgICAgICAgICAgICAgICAgICAgICAgICAgICAgICAgICAgICAgICAgICAgICAgICAgICAgICAgHBwcHBwcHBwcHBwcHBwcHBwcHBwcHBwcHBwcHBwcHBwcHBwcHBwcHBwcHBwcHBwcHBwcHBwcHBwcH",
                    "dtype": "i1"
                  }
                }
              ],
              "layout": {
                "coloraxis": {
                  "colorbar": {
                    "title": {
                      "text": "y_pred_4"
                    }
                  },
                  "colorscale": [
                    [
                      0,
                      "#0d0887"
                    ],
                    [
                      0.1111111111111111,
                      "#46039f"
                    ],
                    [
                      0.2222222222222222,
                      "#7201a8"
                    ],
                    [
                      0.3333333333333333,
                      "#9c179e"
                    ],
                    [
                      0.4444444444444444,
                      "#bd3786"
                    ],
                    [
                      0.5555555555555556,
                      "#d8576b"
                    ],
                    [
                      0.6666666666666666,
                      "#ed7953"
                    ],
                    [
                      0.7777777777777778,
                      "#fb9f3a"
                    ],
                    [
                      0.8888888888888888,
                      "#fdca26"
                    ],
                    [
                      1,
                      "#f0f921"
                    ]
                  ]
                },
                "legend": {
                  "tracegroupgap": 0
                },
                "margin": {
                  "t": 60
                },
                "scene": {
                  "domain": {
                    "x": [
                      0,
                      1
                    ],
                    "y": [
                      0,
                      1
                    ]
                  },
                  "xaxis": {
                    "title": {
                      "text": "Beneficiaries"
                    }
                  },
                  "yaxis": {
                    "title": {
                      "text": "Location_encoded"
                    }
                  },
                  "zaxis": {
                    "title": {
                      "text": "Hijri_Month"
                    }
                  }
                },
                "template": {
                  "data": {
                    "bar": [
                      {
                        "error_x": {
                          "color": "#2a3f5f"
                        },
                        "error_y": {
                          "color": "#2a3f5f"
                        },
                        "marker": {
                          "line": {
                            "color": "#E5ECF6",
                            "width": 0.5
                          },
                          "pattern": {
                            "fillmode": "overlay",
                            "size": 10,
                            "solidity": 0.2
                          }
                        },
                        "type": "bar"
                      }
                    ],
                    "barpolar": [
                      {
                        "marker": {
                          "line": {
                            "color": "#E5ECF6",
                            "width": 0.5
                          },
                          "pattern": {
                            "fillmode": "overlay",
                            "size": 10,
                            "solidity": 0.2
                          }
                        },
                        "type": "barpolar"
                      }
                    ],
                    "carpet": [
                      {
                        "aaxis": {
                          "endlinecolor": "#2a3f5f",
                          "gridcolor": "white",
                          "linecolor": "white",
                          "minorgridcolor": "white",
                          "startlinecolor": "#2a3f5f"
                        },
                        "baxis": {
                          "endlinecolor": "#2a3f5f",
                          "gridcolor": "white",
                          "linecolor": "white",
                          "minorgridcolor": "white",
                          "startlinecolor": "#2a3f5f"
                        },
                        "type": "carpet"
                      }
                    ],
                    "choropleth": [
                      {
                        "colorbar": {
                          "outlinewidth": 0,
                          "ticks": ""
                        },
                        "type": "choropleth"
                      }
                    ],
                    "contour": [
                      {
                        "colorbar": {
                          "outlinewidth": 0,
                          "ticks": ""
                        },
                        "colorscale": [
                          [
                            0,
                            "#0d0887"
                          ],
                          [
                            0.1111111111111111,
                            "#46039f"
                          ],
                          [
                            0.2222222222222222,
                            "#7201a8"
                          ],
                          [
                            0.3333333333333333,
                            "#9c179e"
                          ],
                          [
                            0.4444444444444444,
                            "#bd3786"
                          ],
                          [
                            0.5555555555555556,
                            "#d8576b"
                          ],
                          [
                            0.6666666666666666,
                            "#ed7953"
                          ],
                          [
                            0.7777777777777778,
                            "#fb9f3a"
                          ],
                          [
                            0.8888888888888888,
                            "#fdca26"
                          ],
                          [
                            1,
                            "#f0f921"
                          ]
                        ],
                        "type": "contour"
                      }
                    ],
                    "contourcarpet": [
                      {
                        "colorbar": {
                          "outlinewidth": 0,
                          "ticks": ""
                        },
                        "type": "contourcarpet"
                      }
                    ],
                    "heatmap": [
                      {
                        "colorbar": {
                          "outlinewidth": 0,
                          "ticks": ""
                        },
                        "colorscale": [
                          [
                            0,
                            "#0d0887"
                          ],
                          [
                            0.1111111111111111,
                            "#46039f"
                          ],
                          [
                            0.2222222222222222,
                            "#7201a8"
                          ],
                          [
                            0.3333333333333333,
                            "#9c179e"
                          ],
                          [
                            0.4444444444444444,
                            "#bd3786"
                          ],
                          [
                            0.5555555555555556,
                            "#d8576b"
                          ],
                          [
                            0.6666666666666666,
                            "#ed7953"
                          ],
                          [
                            0.7777777777777778,
                            "#fb9f3a"
                          ],
                          [
                            0.8888888888888888,
                            "#fdca26"
                          ],
                          [
                            1,
                            "#f0f921"
                          ]
                        ],
                        "type": "heatmap"
                      }
                    ],
                    "histogram": [
                      {
                        "marker": {
                          "pattern": {
                            "fillmode": "overlay",
                            "size": 10,
                            "solidity": 0.2
                          }
                        },
                        "type": "histogram"
                      }
                    ],
                    "histogram2d": [
                      {
                        "colorbar": {
                          "outlinewidth": 0,
                          "ticks": ""
                        },
                        "colorscale": [
                          [
                            0,
                            "#0d0887"
                          ],
                          [
                            0.1111111111111111,
                            "#46039f"
                          ],
                          [
                            0.2222222222222222,
                            "#7201a8"
                          ],
                          [
                            0.3333333333333333,
                            "#9c179e"
                          ],
                          [
                            0.4444444444444444,
                            "#bd3786"
                          ],
                          [
                            0.5555555555555556,
                            "#d8576b"
                          ],
                          [
                            0.6666666666666666,
                            "#ed7953"
                          ],
                          [
                            0.7777777777777778,
                            "#fb9f3a"
                          ],
                          [
                            0.8888888888888888,
                            "#fdca26"
                          ],
                          [
                            1,
                            "#f0f921"
                          ]
                        ],
                        "type": "histogram2d"
                      }
                    ],
                    "histogram2dcontour": [
                      {
                        "colorbar": {
                          "outlinewidth": 0,
                          "ticks": ""
                        },
                        "colorscale": [
                          [
                            0,
                            "#0d0887"
                          ],
                          [
                            0.1111111111111111,
                            "#46039f"
                          ],
                          [
                            0.2222222222222222,
                            "#7201a8"
                          ],
                          [
                            0.3333333333333333,
                            "#9c179e"
                          ],
                          [
                            0.4444444444444444,
                            "#bd3786"
                          ],
                          [
                            0.5555555555555556,
                            "#d8576b"
                          ],
                          [
                            0.6666666666666666,
                            "#ed7953"
                          ],
                          [
                            0.7777777777777778,
                            "#fb9f3a"
                          ],
                          [
                            0.8888888888888888,
                            "#fdca26"
                          ],
                          [
                            1,
                            "#f0f921"
                          ]
                        ],
                        "type": "histogram2dcontour"
                      }
                    ],
                    "mesh3d": [
                      {
                        "colorbar": {
                          "outlinewidth": 0,
                          "ticks": ""
                        },
                        "type": "mesh3d"
                      }
                    ],
                    "parcoords": [
                      {
                        "line": {
                          "colorbar": {
                            "outlinewidth": 0,
                            "ticks": ""
                          }
                        },
                        "type": "parcoords"
                      }
                    ],
                    "pie": [
                      {
                        "automargin": true,
                        "type": "pie"
                      }
                    ],
                    "scatter": [
                      {
                        "fillpattern": {
                          "fillmode": "overlay",
                          "size": 10,
                          "solidity": 0.2
                        },
                        "type": "scatter"
                      }
                    ],
                    "scatter3d": [
                      {
                        "line": {
                          "colorbar": {
                            "outlinewidth": 0,
                            "ticks": ""
                          }
                        },
                        "marker": {
                          "colorbar": {
                            "outlinewidth": 0,
                            "ticks": ""
                          }
                        },
                        "type": "scatter3d"
                      }
                    ],
                    "scattercarpet": [
                      {
                        "marker": {
                          "colorbar": {
                            "outlinewidth": 0,
                            "ticks": ""
                          }
                        },
                        "type": "scattercarpet"
                      }
                    ],
                    "scattergeo": [
                      {
                        "marker": {
                          "colorbar": {
                            "outlinewidth": 0,
                            "ticks": ""
                          }
                        },
                        "type": "scattergeo"
                      }
                    ],
                    "scattergl": [
                      {
                        "marker": {
                          "colorbar": {
                            "outlinewidth": 0,
                            "ticks": ""
                          }
                        },
                        "type": "scattergl"
                      }
                    ],
                    "scattermap": [
                      {
                        "marker": {
                          "colorbar": {
                            "outlinewidth": 0,
                            "ticks": ""
                          }
                        },
                        "type": "scattermap"
                      }
                    ],
                    "scattermapbox": [
                      {
                        "marker": {
                          "colorbar": {
                            "outlinewidth": 0,
                            "ticks": ""
                          }
                        },
                        "type": "scattermapbox"
                      }
                    ],
                    "scatterpolar": [
                      {
                        "marker": {
                          "colorbar": {
                            "outlinewidth": 0,
                            "ticks": ""
                          }
                        },
                        "type": "scatterpolar"
                      }
                    ],
                    "scatterpolargl": [
                      {
                        "marker": {
                          "colorbar": {
                            "outlinewidth": 0,
                            "ticks": ""
                          }
                        },
                        "type": "scatterpolargl"
                      }
                    ],
                    "scatterternary": [
                      {
                        "marker": {
                          "colorbar": {
                            "outlinewidth": 0,
                            "ticks": ""
                          }
                        },
                        "type": "scatterternary"
                      }
                    ],
                    "surface": [
                      {
                        "colorbar": {
                          "outlinewidth": 0,
                          "ticks": ""
                        },
                        "colorscale": [
                          [
                            0,
                            "#0d0887"
                          ],
                          [
                            0.1111111111111111,
                            "#46039f"
                          ],
                          [
                            0.2222222222222222,
                            "#7201a8"
                          ],
                          [
                            0.3333333333333333,
                            "#9c179e"
                          ],
                          [
                            0.4444444444444444,
                            "#bd3786"
                          ],
                          [
                            0.5555555555555556,
                            "#d8576b"
                          ],
                          [
                            0.6666666666666666,
                            "#ed7953"
                          ],
                          [
                            0.7777777777777778,
                            "#fb9f3a"
                          ],
                          [
                            0.8888888888888888,
                            "#fdca26"
                          ],
                          [
                            1,
                            "#f0f921"
                          ]
                        ],
                        "type": "surface"
                      }
                    ],
                    "table": [
                      {
                        "cells": {
                          "fill": {
                            "color": "#EBF0F8"
                          },
                          "line": {
                            "color": "white"
                          }
                        },
                        "header": {
                          "fill": {
                            "color": "#C8D4E3"
                          },
                          "line": {
                            "color": "white"
                          }
                        },
                        "type": "table"
                      }
                    ]
                  },
                  "layout": {
                    "annotationdefaults": {
                      "arrowcolor": "#2a3f5f",
                      "arrowhead": 0,
                      "arrowwidth": 1
                    },
                    "autotypenumbers": "strict",
                    "coloraxis": {
                      "colorbar": {
                        "outlinewidth": 0,
                        "ticks": ""
                      }
                    },
                    "colorscale": {
                      "diverging": [
                        [
                          0,
                          "#8e0152"
                        ],
                        [
                          0.1,
                          "#c51b7d"
                        ],
                        [
                          0.2,
                          "#de77ae"
                        ],
                        [
                          0.3,
                          "#f1b6da"
                        ],
                        [
                          0.4,
                          "#fde0ef"
                        ],
                        [
                          0.5,
                          "#f7f7f7"
                        ],
                        [
                          0.6,
                          "#e6f5d0"
                        ],
                        [
                          0.7,
                          "#b8e186"
                        ],
                        [
                          0.8,
                          "#7fbc41"
                        ],
                        [
                          0.9,
                          "#4d9221"
                        ],
                        [
                          1,
                          "#276419"
                        ]
                      ],
                      "sequential": [
                        [
                          0,
                          "#0d0887"
                        ],
                        [
                          0.1111111111111111,
                          "#46039f"
                        ],
                        [
                          0.2222222222222222,
                          "#7201a8"
                        ],
                        [
                          0.3333333333333333,
                          "#9c179e"
                        ],
                        [
                          0.4444444444444444,
                          "#bd3786"
                        ],
                        [
                          0.5555555555555556,
                          "#d8576b"
                        ],
                        [
                          0.6666666666666666,
                          "#ed7953"
                        ],
                        [
                          0.7777777777777778,
                          "#fb9f3a"
                        ],
                        [
                          0.8888888888888888,
                          "#fdca26"
                        ],
                        [
                          1,
                          "#f0f921"
                        ]
                      ],
                      "sequentialminus": [
                        [
                          0,
                          "#0d0887"
                        ],
                        [
                          0.1111111111111111,
                          "#46039f"
                        ],
                        [
                          0.2222222222222222,
                          "#7201a8"
                        ],
                        [
                          0.3333333333333333,
                          "#9c179e"
                        ],
                        [
                          0.4444444444444444,
                          "#bd3786"
                        ],
                        [
                          0.5555555555555556,
                          "#d8576b"
                        ],
                        [
                          0.6666666666666666,
                          "#ed7953"
                        ],
                        [
                          0.7777777777777778,
                          "#fb9f3a"
                        ],
                        [
                          0.8888888888888888,
                          "#fdca26"
                        ],
                        [
                          1,
                          "#f0f921"
                        ]
                      ]
                    },
                    "colorway": [
                      "#636efa",
                      "#EF553B",
                      "#00cc96",
                      "#ab63fa",
                      "#FFA15A",
                      "#19d3f3",
                      "#FF6692",
                      "#B6E880",
                      "#FF97FF",
                      "#FECB52"
                    ],
                    "font": {
                      "color": "#2a3f5f"
                    },
                    "geo": {
                      "bgcolor": "white",
                      "lakecolor": "white",
                      "landcolor": "#E5ECF6",
                      "showlakes": true,
                      "showland": true,
                      "subunitcolor": "white"
                    },
                    "hoverlabel": {
                      "align": "left"
                    },
                    "hovermode": "closest",
                    "mapbox": {
                      "style": "light"
                    },
                    "paper_bgcolor": "white",
                    "plot_bgcolor": "#E5ECF6",
                    "polar": {
                      "angularaxis": {
                        "gridcolor": "white",
                        "linecolor": "white",
                        "ticks": ""
                      },
                      "bgcolor": "#E5ECF6",
                      "radialaxis": {
                        "gridcolor": "white",
                        "linecolor": "white",
                        "ticks": ""
                      }
                    },
                    "scene": {
                      "xaxis": {
                        "backgroundcolor": "#E5ECF6",
                        "gridcolor": "white",
                        "gridwidth": 2,
                        "linecolor": "white",
                        "showbackground": true,
                        "ticks": "",
                        "zerolinecolor": "white"
                      },
                      "yaxis": {
                        "backgroundcolor": "#E5ECF6",
                        "gridcolor": "white",
                        "gridwidth": 2,
                        "linecolor": "white",
                        "showbackground": true,
                        "ticks": "",
                        "zerolinecolor": "white"
                      },
                      "zaxis": {
                        "backgroundcolor": "#E5ECF6",
                        "gridcolor": "white",
                        "gridwidth": 2,
                        "linecolor": "white",
                        "showbackground": true,
                        "ticks": "",
                        "zerolinecolor": "white"
                      }
                    },
                    "shapedefaults": {
                      "line": {
                        "color": "#2a3f5f"
                      }
                    },
                    "ternary": {
                      "aaxis": {
                        "gridcolor": "white",
                        "linecolor": "white",
                        "ticks": ""
                      },
                      "baxis": {
                        "gridcolor": "white",
                        "linecolor": "white",
                        "ticks": ""
                      },
                      "bgcolor": "#E5ECF6",
                      "caxis": {
                        "gridcolor": "white",
                        "linecolor": "white",
                        "ticks": ""
                      }
                    },
                    "title": {
                      "x": 0.05
                    },
                    "xaxis": {
                      "automargin": true,
                      "gridcolor": "white",
                      "linecolor": "white",
                      "ticks": "",
                      "title": {
                        "standoff": 15
                      },
                      "zerolinecolor": "white",
                      "zerolinewidth": 2
                    },
                    "yaxis": {
                      "automargin": true,
                      "gridcolor": "white",
                      "linecolor": "white",
                      "ticks": "",
                      "title": {
                        "standoff": 15
                      },
                      "zerolinecolor": "white",
                      "zerolinewidth": 2
                    }
                  }
                }
              }
            }
          },
          "metadata": {},
          "output_type": "display_data"
        },
        {
          "data": {
            "text/plain": [
              "' cluster _0 :     مجموعة مشاريع في كل المناطق الي تغطيها احسان بكل اشهر السنة وعدد المستفيدين فيها 200 الف واقل '"
            ]
          },
          "execution_count": 98,
          "metadata": {},
          "output_type": "execute_result"
        }
      ],
      "source": [
        "#df_2 = df[['Number of donations','Beneficiaries','Location_encoded','Hijri_Month']]\n",
        "\n",
        "fig = px.scatter_3d(X4, x='Beneficiaries', y='Location_encoded', z='Hijri_Month',\n",
        "              color='y_pred_4')\n",
        "fig.show()\n",
        "\n",
        "\n",
        "''' cluster _0 :     مجموعة مشاريع في كل المناطق الي تغطيها احسان بكل اشهر السنة وعدد المستفيدين فيها 200 الف واقل '''"
      ]
    },
    {
      "cell_type": "code",
      "execution_count": 99,
      "metadata": {},
      "outputs": [
        {
          "data": {
            "application/vnd.plotly.v1+json": {
              "config": {
                "plotlyServerURL": "https://plot.ly"
              },
              "data": [
                {
                  "hovertemplate": "Number of donations=%{x}<br>Location_encoded=%{y}<br>Beneficiaries=%{z}<br>y_pred_4=%{marker.color}<extra></extra>",
                  "legendgroup": "",
                  "marker": {
                    "color": {
                      "bdata": "AAAAAAAAAQAAAAAAAAAAAAAAAAAAAAD/AAAAAAAAAAAAAAAAAAAAAAAAAAAAAAACAAAAAAAAAAAAAgAAAAAAAAAAAAAAAAAAAAAAAAAAAAAAAAAAAAAAAwAAAAAAAAAAAAAAAAAAAAAAAAAAAAAAAAAAAP8AAAAAAAAAAAAAAAAAAAAAAAAAAAAAAAAAAAAAAAAAAAAAAAAAAAAAAAAA/wAAAAAAAAAAAAAAAAAAAAAAAAAAAAAAAAAAAAAAAAAAAAAAAAAAAAAAAAAAAAAAAAAAAAAAAAABAAAAAAAAAAAAAAAAAAAAAAAAAAAAAAAAAAAAAAAAAAD/AP8AAAAAAAAA/wAAAAAAAAAAAAAAAAAAAAAAAP8AAAAAAAAAAAAAAAAAAAAAAAAAAAAAAAAAAAAAAAAAAAAAAAAAAP8AAAAA/wAAAAAAAAAAAAAA/wAAAAAA/wAAAAAAAAAAAAAAAAAAAAAAAAAAAAAAAAAAAAAAAAAAAAAAAAAAAAAAAAAAAAAAAAAAAAAAAAAAAAAA/wAAAAAA//8AAAAAAAAAAAAAAAAAAP8AAAAAAAD/AAAAAAAAAAAA/wD/AAAAAAAAAAAAAAAA/wAAAAAAAP8AAAAAAAAAAAAAAAAAAAAAAAAAAAAAAAAAAAAAAAAA/wAAAAAAAAAA/wAA/wAAAAAAAP8AAAAAAAAAAAAAAAAAAAAAAAAAAAAAAAAAAAAAAAAAAAAAAAAAAP8AAAAAAAAAAAAAAAAAAAAAAAAAAAAAAAAAAAAA/wAAAAAAAAAA/wAAAP8AAAAAAP8AAAAAAgIAAAACAAAAAAACAP8BAAICAAABAAACAAAAAAAAAAIAAAABAAAA/wAAAAD/AAIAAAACAAAAAAAAAAACAAAAAgAAAP8AAAAAAAAAAP8AAAAAAAAAAAAAAAAAAAAAAQAAAAAAAP8AAAAAAAD/AAAAAAAAAP8AAAAAAAAAAAAAAgAAAAAAAAAAAAAAAAAAAAAAAAAAAAAAAAAAAgAAAAAAAAAAAAD/AAAAAAAAAAAAAAAAAAAAAP8AAAAAAAAAAAAAAAAAAAAAAAMAAAAAAAAAAAAAAAAAAAAAAAAAAAAA/wAAAAAAAAIAAAAAAAAAAP8BAAAAAAAAAAAAAAAAAAAAAgAAAAAAAAAAAAAAAAAAAAAAAAAAAAL/AP8AAAAAAAAAAAAA/wAAAAAAAAAAAAAAAAAAAAAAAAAAAAEAAAAAAAAAAAAA//8AAAAAAAAAAAAAAAAAAAAAAAAAAAACAAAAAAAAAAAAAAAAAAAAAAAAAAAAAAAA/wAAAAAAAP8AAAAAAAAAAAAAAAAAAAAAAAAAAAMAAAAAAAAAAAAAAAAAAAAAAAAAAAAAAAAAAAAAAAAAAAAAAgAAAP8AAAAAAAAAAAAAAAAAAAAAAAAAAAAAAAAAAAAAAAAAAAAAAAAAAAAAAAAAAAAAAAAAAAAAAAAA/wAA/wAAAAAAAAAAAAAAAAAAAgAAAAAAAAAAAAAAAAAAAAAAAAAAAAAAAAAAAAAAAAAAAAAAAAAAAAAAAAAAAAAAAAAAAAAAAAAAAAAAAAAAAAAAAAAAAAAAAgAAAAAAAAAAAAIAAAAAAAAAAAABAAAAAAAAAAAAAAAAAAAAAAAAAAAAAAAAAAAAAAAAAAAAAgAAAAAAAAAAAAAAAAAAAQAAAAAAAAAAAAAAAAAAAAAAAAAAAAAAAP8AAAAAAQAAAAAAAgAAAAD/AAAAAQAAAAMAAAAAAAAAAAAAAAAAAAAAAAAAAAAAAAADAAAAAAAAAAAAAgAAAAAAAAAAAAAAAAAAAAAAAAABAAAAAAAAAAAAAAAAAAD/AAAAAAAAAAAAAAEAAAAAAAAAAAMAAAAAAAAAAAAAAAAAAAAAAAAAAAAAAAAAAAAAAAAAAAAAAAAAAAAAAAAAAAAAAAAAAAAAAAAAAAAAAAAAAAABAAAAAAAAAAAAAAAAAAAAAAAAAAAAAAAA",
                      "dtype": "i1"
                    },
                    "coloraxis": "coloraxis",
                    "symbol": "circle"
                  },
                  "mode": "markers",
                  "name": "",
                  "scene": "scene",
                  "showlegend": false,
                  "type": "scatter3d",
                  "x": {
                    "bdata": "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",
                    "dtype": "i4"
                  },
                  "y": {
                    "bdata": "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",
                    "dtype": "i2"
                  },
                  "z": {
                    "bdata": "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",
                    "dtype": "i4"
                  }
                }
              ],
              "layout": {
                "coloraxis": {
                  "colorbar": {
                    "title": {
                      "text": "y_pred_4"
                    }
                  },
                  "colorscale": [
                    [
                      0,
                      "#0d0887"
                    ],
                    [
                      0.1111111111111111,
                      "#46039f"
                    ],
                    [
                      0.2222222222222222,
                      "#7201a8"
                    ],
                    [
                      0.3333333333333333,
                      "#9c179e"
                    ],
                    [
                      0.4444444444444444,
                      "#bd3786"
                    ],
                    [
                      0.5555555555555556,
                      "#d8576b"
                    ],
                    [
                      0.6666666666666666,
                      "#ed7953"
                    ],
                    [
                      0.7777777777777778,
                      "#fb9f3a"
                    ],
                    [
                      0.8888888888888888,
                      "#fdca26"
                    ],
                    [
                      1,
                      "#f0f921"
                    ]
                  ]
                },
                "legend": {
                  "tracegroupgap": 0
                },
                "margin": {
                  "t": 60
                },
                "scene": {
                  "domain": {
                    "x": [
                      0,
                      1
                    ],
                    "y": [
                      0,
                      1
                    ]
                  },
                  "xaxis": {
                    "title": {
                      "text": "Number of donations"
                    }
                  },
                  "yaxis": {
                    "title": {
                      "text": "Location_encoded"
                    }
                  },
                  "zaxis": {
                    "title": {
                      "text": "Beneficiaries"
                    }
                  }
                },
                "template": {
                  "data": {
                    "bar": [
                      {
                        "error_x": {
                          "color": "#2a3f5f"
                        },
                        "error_y": {
                          "color": "#2a3f5f"
                        },
                        "marker": {
                          "line": {
                            "color": "#E5ECF6",
                            "width": 0.5
                          },
                          "pattern": {
                            "fillmode": "overlay",
                            "size": 10,
                            "solidity": 0.2
                          }
                        },
                        "type": "bar"
                      }
                    ],
                    "barpolar": [
                      {
                        "marker": {
                          "line": {
                            "color": "#E5ECF6",
                            "width": 0.5
                          },
                          "pattern": {
                            "fillmode": "overlay",
                            "size": 10,
                            "solidity": 0.2
                          }
                        },
                        "type": "barpolar"
                      }
                    ],
                    "carpet": [
                      {
                        "aaxis": {
                          "endlinecolor": "#2a3f5f",
                          "gridcolor": "white",
                          "linecolor": "white",
                          "minorgridcolor": "white",
                          "startlinecolor": "#2a3f5f"
                        },
                        "baxis": {
                          "endlinecolor": "#2a3f5f",
                          "gridcolor": "white",
                          "linecolor": "white",
                          "minorgridcolor": "white",
                          "startlinecolor": "#2a3f5f"
                        },
                        "type": "carpet"
                      }
                    ],
                    "choropleth": [
                      {
                        "colorbar": {
                          "outlinewidth": 0,
                          "ticks": ""
                        },
                        "type": "choropleth"
                      }
                    ],
                    "contour": [
                      {
                        "colorbar": {
                          "outlinewidth": 0,
                          "ticks": ""
                        },
                        "colorscale": [
                          [
                            0,
                            "#0d0887"
                          ],
                          [
                            0.1111111111111111,
                            "#46039f"
                          ],
                          [
                            0.2222222222222222,
                            "#7201a8"
                          ],
                          [
                            0.3333333333333333,
                            "#9c179e"
                          ],
                          [
                            0.4444444444444444,
                            "#bd3786"
                          ],
                          [
                            0.5555555555555556,
                            "#d8576b"
                          ],
                          [
                            0.6666666666666666,
                            "#ed7953"
                          ],
                          [
                            0.7777777777777778,
                            "#fb9f3a"
                          ],
                          [
                            0.8888888888888888,
                            "#fdca26"
                          ],
                          [
                            1,
                            "#f0f921"
                          ]
                        ],
                        "type": "contour"
                      }
                    ],
                    "contourcarpet": [
                      {
                        "colorbar": {
                          "outlinewidth": 0,
                          "ticks": ""
                        },
                        "type": "contourcarpet"
                      }
                    ],
                    "heatmap": [
                      {
                        "colorbar": {
                          "outlinewidth": 0,
                          "ticks": ""
                        },
                        "colorscale": [
                          [
                            0,
                            "#0d0887"
                          ],
                          [
                            0.1111111111111111,
                            "#46039f"
                          ],
                          [
                            0.2222222222222222,
                            "#7201a8"
                          ],
                          [
                            0.3333333333333333,
                            "#9c179e"
                          ],
                          [
                            0.4444444444444444,
                            "#bd3786"
                          ],
                          [
                            0.5555555555555556,
                            "#d8576b"
                          ],
                          [
                            0.6666666666666666,
                            "#ed7953"
                          ],
                          [
                            0.7777777777777778,
                            "#fb9f3a"
                          ],
                          [
                            0.8888888888888888,
                            "#fdca26"
                          ],
                          [
                            1,
                            "#f0f921"
                          ]
                        ],
                        "type": "heatmap"
                      }
                    ],
                    "histogram": [
                      {
                        "marker": {
                          "pattern": {
                            "fillmode": "overlay",
                            "size": 10,
                            "solidity": 0.2
                          }
                        },
                        "type": "histogram"
                      }
                    ],
                    "histogram2d": [
                      {
                        "colorbar": {
                          "outlinewidth": 0,
                          "ticks": ""
                        },
                        "colorscale": [
                          [
                            0,
                            "#0d0887"
                          ],
                          [
                            0.1111111111111111,
                            "#46039f"
                          ],
                          [
                            0.2222222222222222,
                            "#7201a8"
                          ],
                          [
                            0.3333333333333333,
                            "#9c179e"
                          ],
                          [
                            0.4444444444444444,
                            "#bd3786"
                          ],
                          [
                            0.5555555555555556,
                            "#d8576b"
                          ],
                          [
                            0.6666666666666666,
                            "#ed7953"
                          ],
                          [
                            0.7777777777777778,
                            "#fb9f3a"
                          ],
                          [
                            0.8888888888888888,
                            "#fdca26"
                          ],
                          [
                            1,
                            "#f0f921"
                          ]
                        ],
                        "type": "histogram2d"
                      }
                    ],
                    "histogram2dcontour": [
                      {
                        "colorbar": {
                          "outlinewidth": 0,
                          "ticks": ""
                        },
                        "colorscale": [
                          [
                            0,
                            "#0d0887"
                          ],
                          [
                            0.1111111111111111,
                            "#46039f"
                          ],
                          [
                            0.2222222222222222,
                            "#7201a8"
                          ],
                          [
                            0.3333333333333333,
                            "#9c179e"
                          ],
                          [
                            0.4444444444444444,
                            "#bd3786"
                          ],
                          [
                            0.5555555555555556,
                            "#d8576b"
                          ],
                          [
                            0.6666666666666666,
                            "#ed7953"
                          ],
                          [
                            0.7777777777777778,
                            "#fb9f3a"
                          ],
                          [
                            0.8888888888888888,
                            "#fdca26"
                          ],
                          [
                            1,
                            "#f0f921"
                          ]
                        ],
                        "type": "histogram2dcontour"
                      }
                    ],
                    "mesh3d": [
                      {
                        "colorbar": {
                          "outlinewidth": 0,
                          "ticks": ""
                        },
                        "type": "mesh3d"
                      }
                    ],
                    "parcoords": [
                      {
                        "line": {
                          "colorbar": {
                            "outlinewidth": 0,
                            "ticks": ""
                          }
                        },
                        "type": "parcoords"
                      }
                    ],
                    "pie": [
                      {
                        "automargin": true,
                        "type": "pie"
                      }
                    ],
                    "scatter": [
                      {
                        "fillpattern": {
                          "fillmode": "overlay",
                          "size": 10,
                          "solidity": 0.2
                        },
                        "type": "scatter"
                      }
                    ],
                    "scatter3d": [
                      {
                        "line": {
                          "colorbar": {
                            "outlinewidth": 0,
                            "ticks": ""
                          }
                        },
                        "marker": {
                          "colorbar": {
                            "outlinewidth": 0,
                            "ticks": ""
                          }
                        },
                        "type": "scatter3d"
                      }
                    ],
                    "scattercarpet": [
                      {
                        "marker": {
                          "colorbar": {
                            "outlinewidth": 0,
                            "ticks": ""
                          }
                        },
                        "type": "scattercarpet"
                      }
                    ],
                    "scattergeo": [
                      {
                        "marker": {
                          "colorbar": {
                            "outlinewidth": 0,
                            "ticks": ""
                          }
                        },
                        "type": "scattergeo"
                      }
                    ],
                    "scattergl": [
                      {
                        "marker": {
                          "colorbar": {
                            "outlinewidth": 0,
                            "ticks": ""
                          }
                        },
                        "type": "scattergl"
                      }
                    ],
                    "scattermap": [
                      {
                        "marker": {
                          "colorbar": {
                            "outlinewidth": 0,
                            "ticks": ""
                          }
                        },
                        "type": "scattermap"
                      }
                    ],
                    "scattermapbox": [
                      {
                        "marker": {
                          "colorbar": {
                            "outlinewidth": 0,
                            "ticks": ""
                          }
                        },
                        "type": "scattermapbox"
                      }
                    ],
                    "scatterpolar": [
                      {
                        "marker": {
                          "colorbar": {
                            "outlinewidth": 0,
                            "ticks": ""
                          }
                        },
                        "type": "scatterpolar"
                      }
                    ],
                    "scatterpolargl": [
                      {
                        "marker": {
                          "colorbar": {
                            "outlinewidth": 0,
                            "ticks": ""
                          }
                        },
                        "type": "scatterpolargl"
                      }
                    ],
                    "scatterternary": [
                      {
                        "marker": {
                          "colorbar": {
                            "outlinewidth": 0,
                            "ticks": ""
                          }
                        },
                        "type": "scatterternary"
                      }
                    ],
                    "surface": [
                      {
                        "colorbar": {
                          "outlinewidth": 0,
                          "ticks": ""
                        },
                        "colorscale": [
                          [
                            0,
                            "#0d0887"
                          ],
                          [
                            0.1111111111111111,
                            "#46039f"
                          ],
                          [
                            0.2222222222222222,
                            "#7201a8"
                          ],
                          [
                            0.3333333333333333,
                            "#9c179e"
                          ],
                          [
                            0.4444444444444444,
                            "#bd3786"
                          ],
                          [
                            0.5555555555555556,
                            "#d8576b"
                          ],
                          [
                            0.6666666666666666,
                            "#ed7953"
                          ],
                          [
                            0.7777777777777778,
                            "#fb9f3a"
                          ],
                          [
                            0.8888888888888888,
                            "#fdca26"
                          ],
                          [
                            1,
                            "#f0f921"
                          ]
                        ],
                        "type": "surface"
                      }
                    ],
                    "table": [
                      {
                        "cells": {
                          "fill": {
                            "color": "#EBF0F8"
                          },
                          "line": {
                            "color": "white"
                          }
                        },
                        "header": {
                          "fill": {
                            "color": "#C8D4E3"
                          },
                          "line": {
                            "color": "white"
                          }
                        },
                        "type": "table"
                      }
                    ]
                  },
                  "layout": {
                    "annotationdefaults": {
                      "arrowcolor": "#2a3f5f",
                      "arrowhead": 0,
                      "arrowwidth": 1
                    },
                    "autotypenumbers": "strict",
                    "coloraxis": {
                      "colorbar": {
                        "outlinewidth": 0,
                        "ticks": ""
                      }
                    },
                    "colorscale": {
                      "diverging": [
                        [
                          0,
                          "#8e0152"
                        ],
                        [
                          0.1,
                          "#c51b7d"
                        ],
                        [
                          0.2,
                          "#de77ae"
                        ],
                        [
                          0.3,
                          "#f1b6da"
                        ],
                        [
                          0.4,
                          "#fde0ef"
                        ],
                        [
                          0.5,
                          "#f7f7f7"
                        ],
                        [
                          0.6,
                          "#e6f5d0"
                        ],
                        [
                          0.7,
                          "#b8e186"
                        ],
                        [
                          0.8,
                          "#7fbc41"
                        ],
                        [
                          0.9,
                          "#4d9221"
                        ],
                        [
                          1,
                          "#276419"
                        ]
                      ],
                      "sequential": [
                        [
                          0,
                          "#0d0887"
                        ],
                        [
                          0.1111111111111111,
                          "#46039f"
                        ],
                        [
                          0.2222222222222222,
                          "#7201a8"
                        ],
                        [
                          0.3333333333333333,
                          "#9c179e"
                        ],
                        [
                          0.4444444444444444,
                          "#bd3786"
                        ],
                        [
                          0.5555555555555556,
                          "#d8576b"
                        ],
                        [
                          0.6666666666666666,
                          "#ed7953"
                        ],
                        [
                          0.7777777777777778,
                          "#fb9f3a"
                        ],
                        [
                          0.8888888888888888,
                          "#fdca26"
                        ],
                        [
                          1,
                          "#f0f921"
                        ]
                      ],
                      "sequentialminus": [
                        [
                          0,
                          "#0d0887"
                        ],
                        [
                          0.1111111111111111,
                          "#46039f"
                        ],
                        [
                          0.2222222222222222,
                          "#7201a8"
                        ],
                        [
                          0.3333333333333333,
                          "#9c179e"
                        ],
                        [
                          0.4444444444444444,
                          "#bd3786"
                        ],
                        [
                          0.5555555555555556,
                          "#d8576b"
                        ],
                        [
                          0.6666666666666666,
                          "#ed7953"
                        ],
                        [
                          0.7777777777777778,
                          "#fb9f3a"
                        ],
                        [
                          0.8888888888888888,
                          "#fdca26"
                        ],
                        [
                          1,
                          "#f0f921"
                        ]
                      ]
                    },
                    "colorway": [
                      "#636efa",
                      "#EF553B",
                      "#00cc96",
                      "#ab63fa",
                      "#FFA15A",
                      "#19d3f3",
                      "#FF6692",
                      "#B6E880",
                      "#FF97FF",
                      "#FECB52"
                    ],
                    "font": {
                      "color": "#2a3f5f"
                    },
                    "geo": {
                      "bgcolor": "white",
                      "lakecolor": "white",
                      "landcolor": "#E5ECF6",
                      "showlakes": true,
                      "showland": true,
                      "subunitcolor": "white"
                    },
                    "hoverlabel": {
                      "align": "left"
                    },
                    "hovermode": "closest",
                    "mapbox": {
                      "style": "light"
                    },
                    "paper_bgcolor": "white",
                    "plot_bgcolor": "#E5ECF6",
                    "polar": {
                      "angularaxis": {
                        "gridcolor": "white",
                        "linecolor": "white",
                        "ticks": ""
                      },
                      "bgcolor": "#E5ECF6",
                      "radialaxis": {
                        "gridcolor": "white",
                        "linecolor": "white",
                        "ticks": ""
                      }
                    },
                    "scene": {
                      "xaxis": {
                        "backgroundcolor": "#E5ECF6",
                        "gridcolor": "white",
                        "gridwidth": 2,
                        "linecolor": "white",
                        "showbackground": true,
                        "ticks": "",
                        "zerolinecolor": "white"
                      },
                      "yaxis": {
                        "backgroundcolor": "#E5ECF6",
                        "gridcolor": "white",
                        "gridwidth": 2,
                        "linecolor": "white",
                        "showbackground": true,
                        "ticks": "",
                        "zerolinecolor": "white"
                      },
                      "zaxis": {
                        "backgroundcolor": "#E5ECF6",
                        "gridcolor": "white",
                        "gridwidth": 2,
                        "linecolor": "white",
                        "showbackground": true,
                        "ticks": "",
                        "zerolinecolor": "white"
                      }
                    },
                    "shapedefaults": {
                      "line": {
                        "color": "#2a3f5f"
                      }
                    },
                    "ternary": {
                      "aaxis": {
                        "gridcolor": "white",
                        "linecolor": "white",
                        "ticks": ""
                      },
                      "baxis": {
                        "gridcolor": "white",
                        "linecolor": "white",
                        "ticks": ""
                      },
                      "bgcolor": "#E5ECF6",
                      "caxis": {
                        "gridcolor": "white",
                        "linecolor": "white",
                        "ticks": ""
                      }
                    },
                    "title": {
                      "x": 0.05
                    },
                    "xaxis": {
                      "automargin": true,
                      "gridcolor": "white",
                      "linecolor": "white",
                      "ticks": "",
                      "title": {
                        "standoff": 15
                      },
                      "zerolinecolor": "white",
                      "zerolinewidth": 2
                    },
                    "yaxis": {
                      "automargin": true,
                      "gridcolor": "white",
                      "linecolor": "white",
                      "ticks": "",
                      "title": {
                        "standoff": 15
                      },
                      "zerolinecolor": "white",
                      "zerolinewidth": 2
                    }
                  }
                }
              }
            }
          },
          "metadata": {},
          "output_type": "display_data"
        }
      ],
      "source": [
        "#df_2 = df[['Number of donations','Beneficiaries','Location_encoded','Hijri_Month']]\n",
        "\n",
        "import plotly\n",
        "import plotly.express as px\n",
        "\n",
        "fig = px.scatter_3d(X4, x='Number of donations', y='Location_encoded', z='Beneficiaries',\n",
        "              color='y_pred_4')\n",
        "fig.show()"
      ]
    },
    {
      "cell_type": "code",
      "execution_count": 100,
      "metadata": {},
      "outputs": [
        {
          "data": {
            "text/plain": [
              "['scaler.joblib']"
            ]
          },
          "execution_count": 100,
          "metadata": {},
          "output_type": "execute_result"
        }
      ],
      "source": [
        "import joblib\n",
        "joblib.dump(model_4, 'DBSCAN.joblib')\n",
        "joblib.dump(scaler, 'scaler.joblib')"
      ]
    },
    {
      "cell_type": "markdown",
      "metadata": {},
      "source": [
        "curl -X POST \"http://localhost:8000/predict\" \\\n",
        "-H \"Content-Type: application/json\" \\\n",
        "-d '{\n",
        "\"Year\": 2020,\n",
        "\"Engine_Size\": 2.5,\n",
        "\"Mileage\": 15000,\n",
        "\"Type\": \"Accent\",\n",
        "\"Make\": \"Hyundai\",\n",
        "\"Options\": \"Full\"\n",
        "}'\n"
      ]
    },
    {
      "cell_type": "markdown",
      "metadata": {},
      "source": [
        "curl -x post \"http://localhost:8000/predict\" \\ \n",
        "-H \"Content-Type: application/json\" \\\n",
        "-d '{ \n",
        "    Number of donations: 200\n",
        "    'Beneficiaries':200\n",
        "    'Location_encoded':0\n",
        "    'Hijri_Month':9\n",
        "    }"
      ]
    },
    {
      "cell_type": "markdown",
      "metadata": {},
      "source": [
        "curl -X POST \"http://localhost:8000/predict\" -H \"Content-Type: application/json\" -d \"{ \\\"Number of donations\\\": 200, \\\"Beneficiaries\\\": 200, \\\"Location_encoded\\\": 0, \\\"Hijri_Month\\\": 9 }\"\n"
      ]
    },
    {
      "cell_type": "markdown",
      "metadata": {},
      "source": [
        "$headers = @{ \"Content-Type\" = \"application/json\" }\n",
        "$body = @{\n",
        "    \"Number of donations\" = 200\n",
        "    \"Beneficiaries\" = 200\n",
        "    \"Location_encoded\" = 0\n",
        "    \"Hijri_Month\" = 9\n",
        "} | ConvertTo-Json\n",
        "\n",
        "Invoke-RestMethod -Uri \"http://localhost:8000/\" -Method Post -Headers $headers -Body $body\n"
      ]
    },
    {
      "cell_type": "markdown",
      "metadata": {},
      "source": [
        "curl -x post \"http://localhost:8000/predict\" /\n",
        "-H \"Content-Type: application/json\" /\n",
        "-d '{ \n",
        "    Number of donations: 200\n",
        "    'Beneficiaries':200\n",
        "    'Location_encoded':0\n",
        "    'Hijri_Month':9\n",
        "    }"
      ]
    },
    {
      "cell_type": "markdown",
      "metadata": {},
      "source": [
        "curl -X POST -H \"Content-Type: application/json\" -d \"{\\\"Number of donations\\\": 200, \\\"Beneficiaries\\\": 200,\\\"Location_encoded\\\":0, \\\"Hijri_Month\\\": 9 }\" http://localhost:8000/predict"
      ]
    }
  ],
  "metadata": {
    "colab": {
      "provenance": []
    },
    "kernelspec": {
      "display_name": "Python 3",
      "name": "python3"
    },
    "language_info": {
      "codemirror_mode": {
        "name": "ipython",
        "version": 3
      },
      "file_extension": ".py",
      "mimetype": "text/x-python",
      "name": "python",
      "nbconvert_exporter": "python",
      "pygments_lexer": "ipython3",
      "version": "3.13.2"
    }
  },
  "nbformat": 4,
  "nbformat_minor": 0
}
